{
 "cells": [
  {
   "cell_type": "markdown",
   "id": "f069967b",
   "metadata": {},
   "source": [
    "# Exploratory data analysis for house sales"
   ]
  },
  {
   "cell_type": "code",
   "execution_count": 3,
   "id": "3d10ab0a",
   "metadata": {},
   "outputs": [],
   "source": [
    "#First import libraries and data\n",
    "import numpy as np\n",
    "import pandas as pd\n",
    "import matplotlib.pyplot as plt\n",
    "import seaborn as sns\n",
    "from IPython import display\n",
    "import matplotlib_inline\n",
    "matplotlib_inline.backend_inline.set_matplotlib_formats('svg')"
   ]
  },
  {
   "cell_type": "code",
   "execution_count": 32,
   "id": "c4bed662",
   "metadata": {},
   "outputs": [],
   "source": [
    "#load csv\n",
    "house_sales = pd.read_feather('C:/Users/hp/Downloads/house_sales.ftr')\n"
   ]
  },
  {
   "cell_type": "code",
   "execution_count": 11,
   "id": "0ecb4942",
   "metadata": {},
   "outputs": [
    {
     "name": "stdout",
     "output_type": "stream",
     "text": [
      "(164944, 1789)\n"
     ]
    }
   ],
   "source": [
    "#check the data shape and the first few examples\n",
    "\n",
    "print(house_sales.shape)"
   ]
  },
  {
   "cell_type": "code",
   "execution_count": 12,
   "id": "3607e363",
   "metadata": {},
   "outputs": [
    {
     "name": "stdout",
     "output_type": "stream",
     "text": [
      "           Id          Address  Sold Price   Sold On  \\\n",
      "0  2080183300  11205 Monterey,  $2,000,000  01/31/20   \n",
      "1    20926300  5281 Castle Rd,  $2,100,000  02/25/21   \n",
      "\n",
      "                                             Summary          Type Year built  \\\n",
      "0  11205 Monterey, San Martin, CA 95046 is a sing...  SingleFamily    No Data   \n",
      "1  Spectacular Mountain and incredible L.A. City ...  SingleFamily       1951   \n",
      "\n",
      "   Heating            Cooling                     Parking  ...  \\\n",
      "0  No Data            No Data                    0 spaces  ...   \n",
      "1  Central  Central Air, Dual  Driveway, Driveway - Brick  ...   \n",
      "\n",
      "  Well Disclosure remodeled  DOH2 SerialX Full Baths Tax Legal Lot Number  \\\n",
      "0            None      None  None    None       None                 None   \n",
      "1            None      None  None    None       None                 None   \n",
      "\n",
      "  Tax Legal Block Number Tax Legal Tract Number Building Name    Zip  \n",
      "0                   None                   None          None  95046  \n",
      "1                   None                   None          None  91011  \n",
      "\n",
      "[2 rows x 1789 columns]\n"
     ]
    }
   ],
   "source": [
    "#check the first few examples\n",
    "print(house_sales.head(2))"
   ]
  },
  {
   "cell_type": "markdown",
   "id": "8ad9f2bd",
   "metadata": {},
   "source": [
    "# Data Cleaning "
   ]
  },
  {
   "cell_type": "code",
   "execution_count": 25,
   "id": "b48c4a58",
   "metadata": {},
   "outputs": [
    {
     "name": "stdout",
     "output_type": "stream",
     "text": [
      "Missing columns ===>\n",
      "Id                             0\n",
      "Address                        0\n",
      "Sold Price                    85\n",
      "Sold On                        0\n",
      "Summary                     3117\n",
      "                           ...  \n",
      "Tax Legal Lot Number      164943\n",
      "Tax Legal Block Number    164943\n",
      "Tax Legal Tract Number    164943\n",
      "Building Name             164943\n",
      "Zip                            0\n",
      "Length: 1789, dtype: int64\n",
      "\n",
      "\n",
      "Columns with 30% missing values ===>\n",
      "['Lot', 'Full bathrooms', 'Has garage', 'Middle School', 'Middle School Score', 'Middle School Distance', '3/4 bathrooms', 'Flooring', 'Cooling features', 'Appliances included', 'Laundry features', 'Common walls with other units/homes', 'Fireplace features', 'Virtual tour', 'Covered spaces', 'Has uncovered spaces', 'Attached garage', 'Levels', 'Entry location', 'Private pool', 'Spa included', 'Spa features', 'Patio and porch details', 'Fencing', 'View description', 'Special conditions', 'Sewer information', 'Community features', 'Last Sold On', 'Last Sold Price', 'Fireplace', 'Stories', 'Construction materials', 'Roof', 'Major remodel year', 'Utilities for property', 'Dining Room', 'Building Type', 'Listing Class', 'Garage Parking Features', 'Lot Size Area Maximum Units', 'Lot Size Area Minimum Units', 'Structure SqFt Source', 'Style', 'Family Room', 'Foundation', 'Water', 'Listing Type', 'Utilities', 'Sewer Septic', 'HOA Exist Y/N', 'Additional Listing Info', 'Pets allowed', 'Rent control', 'Has HOA fee', 'Association name', 'HOA', '1/2 bathrooms', 'Security features', 'HOA fee', 'AssociationPetRules', 'PropertyType', 'Amenities', 'County', 'Rooms', 'ParkingGarage', 'PoolDescription', 'SecurityFeatures', 'CommonWalls', 'Equipment', 'HOAFeeFrequency1', 'Laundry', 'FireplaceRooms', 'SourceLivingArea', 'SourceLotSizeArea', 'SpecialZoning', 'ViewDescription', 'ListingArea', 'ListingStatus', 'Furnished', 'Exterior features', 'Structure type', 'MLS Listing ID', 'MLS Name', 'Architectural style', 'CountyOrParish', 'StateOrProvince', 'PreviousStandardStatus', 'StandardStatus', 'CommunityFeatures', 'SpecialListingConditions', 'StreetSuffix', 'View', 'City', 'LotFeatures', 'RoomType', 'LaundryFeatures', 'HighSchoolDistrict', 'MLSAreaMajor', 'ElevationUnits', 'LivingAreaUnits', 'WaterSource', 'LotSizeSource', 'AttachedGarageYN', 'Country', 'TaxTractNumber', 'Sewer', 'YearBuiltSource', 'SeniorCommunityYN', 'ParcelNumber', 'Main level bathrooms', 'Zoning', 'New construction', 'Kitchen', 'Association Fees Include', 'Pool', 'Bathroom', 'HOA Fee', 'Heating system', 'Fireplaces', 'HOA Amenities', 'Subclass', 'Additional Rooms', 'Special Features', 'Park Home Site', 'Uncovered spaces', 'Attached to another structure', 'Property condition', 'Number of units', 'Stories in building', 'Amenities included', 'Intermediate School', 'Intermediate School Score', 'Intermediate School Distance', 'Spa', 'Total structure area', 'Services included', 'Price Range', 'Additional structures included', 'Windows', 'Electric information', 'Second association name', 'Total number of fireplaces', 'Basement', 'HOAFeeFrequency2', 'Measurement Source', 'Appliances', 'AssociationYN', 'FireplaceYN', 'GarageYN', 'HeatingYN', 'CoolingYN', 'FireplaceFeatures', 'FoundationDetails', 'FireplacesTotal', 'ConstructionMaterials', 'AssociationFeeIncludes', 'BedroomsPossible', 'CoveredSpaces', 'PoolFeatures', 'LivingAreaSource', 'BuildingAreaSource', 'AssociationAmenities', 'ParkingFeatures', 'RoomBathroomFeatures', 'RoomDiningRoomFeatures', 'MlsStatus', 'ListPriceLow', 'RoadFrontageType', 'Energy Features', 'Amenities Misc.', 'Construction Type', 'UnitTypeType', 'OtherStructures', 'BuildingAreaUnits', 'Parking Type', 'Additional parcel(s) included', 'Water information', 'Driveway', 'InteriorFeatures', 'FeaturesAppliances', 'MasterBr', 'Internet YN', 'Gas (Propane) YN', 'Terrain', 'WaterSources', 'LotDescription', 'RoadType', 'Homeowners Dues', 'SchoolDistrict', 'Sewer Type', '# of Stories', 'MasterBath', 'ExtSiding', 'Area', 'Sprinklers', 'BedroomFeatures', 'CookingAppliances', 'OtherStructuralFeatures', 'HOA Fee Frequency', 'Lot Description', 'Security Features', 'Communications', 'Carport', 'On leased land', 'Lease amount', 'Senior community', 'Cooling System', 'Fireplace Features', 'Roofing', 'Garage', 'State/Province', 'Direction Faces', 'Year Built Source', 'SqFt Source', 'Construction', 'Parking Features', 'Laundry Features', 'Suffix', 'Interior Features', 'Patio and Porch Features', 'Zip Code', 'Lot Features', 'Property Type', 'Property Faces', 'Stories/Levels', 'Exterior', 'Builder name', 'SourceLotSizeDimensions', 'Carport spaces', 'Horses can be raised', 'Fence', 'PropertyCondition', 'EatingAreas', 'KitchenFeatures', 'Energy efficient items', 'RoadSurfaceType', 'StructureType', 'ElectricOnPropertyYN', 'Electric', 'IrrigationSource', 'PropertySubType', 'GreenEnergyEfficient', 'Electric utility on property', '1/4 bathrooms', 'Association', 'Bath Features', 'Floor', 'Gas & Electric', 'Heating & Cooling', 'Sewer/Water', 'Yard', 'Garage Type', 'Lot Size Source', 'Dining Room Features', 'Patio', 'Energy Efficiency', 'Site Amenities', 'Lot Measurement', 'Property Subtype 1', 'Transaction Type', 'Water conservation', 'ArchitecturalStyle', 'GreenEnergyGeneration', 'DirectionFaces', 'GreenWaterConservation', 'RoomKitchenFeatures', 'Number of vacant units', 'ViewYN', 'PatioAndPorchFeatures', 'RoomMasterBathroomFeatures', 'Features And Inclusions', 'Property Style', 'Roof Type', 'Exterior Construction', 'Exterior Features', 'Swimming Pool', 'ListingType', 'Lot size dimensions', 'Unit Features', 'Zoning description', 'Pool Type', 'HOA Paid', 'Building name', 'Association phone', 'Common Walls', 'Road Surface Type', 'On waterfront', 'Waterfront features', 'Partial bathrooms', 'PoolPrivateYN', 'OpenParkingYN', 'RoomMasterBedroomFeatures', 'RoadResponsibility', 'OtherEquipment', 'Broker Approved', 'Lease Type', 'School District', 'Terms', 'Water Source', 'Multiple Listing Service', 'Status', 'Possession', 'Picture Provided By', 'View Description', 'Current Use', 'Zoning Description', 'Accessibility features', 'EatingArea', 'SpaFeatures', 'AccessibilityFeatures', 'Status Qualifier', 'Listing Agreement', 'Electric Vehicle Hookup Type', 'Community', 'Approx # of Acres', 'Neighborhood', 'Topography', 'Road Surface', 'Distance to Shopping', 'Present Use', 'Soil Type', 'Percolation', 'Acres Range', 'Bonds/Misc', 'Improvements Include', 'Parcel Number', 'HorseYN', 'ZoningDescription', 'Vegetation', 'CurrentUse', 'DistanceToElectricComments', 'DevelopmentStatus', 'HorseAmenities', 'PossibleUse', 'APPLIANCES', 'DRIVEWAY', 'EXTERIOR AMENITIES', 'HEAT', 'KITCHEN AMENITIES', 'SEWAGE', 'VIEW', 'WATER', 'BATH AMENITIES', 'EXTERIOR', 'FOUNDATION/BASEMENT', 'FIREPLACE', 'INTERIOR FEATURES', 'WATERFRONT', 'LAUNDRY', 'WindowFeatures', 'Class', 'BASEMENT/FOUNDATION', 'GAS/PROPANE', 'INTERIOR AMENITIES', 'LANDSCAPING', 'LOT DESCRIPTION', 'POSSESSION', 'ROOMS', 'STORIES', 'WINDOW', 'HEATING', 'SEWER', 'WATER SUPPLY', 'Schools', 'ELECTRIC', 'WATER HEATER', 'Personal Property Inc.', 'Approx. Age', 'Siding', 'Insulation', 'Interior Amenities', 'Exterior Amenities', 'Financing Terms', 'Road', '1st Floor', 'Fenced', 'Dining', '2nd Floor', 'Appearance', 'Living', 'Association & Fees', 'Municipal Flood Req', 'Fire Protection', 'Neighborhood Feature', 'Water Management', 'Faces Direction', 'Major Area', 'Horse Property', 'Parcel Access', 'Development Status', 'NumberOfUnitsTotal', 'OpenParkingSpaces', 'NumberOfBuildings', 'YearBuiltEffective', 'NumberOfUnitsLeased', 'TenantPays', 'AssociationFeeFrequency', 'Baths Other', 'Kitchen Description', 'Landscape', 'Master Bath', 'Road Description', 'Roof Description', 'Subtype Description', 'Domestic Water', 'Dining Description', 'Laundry Description', 'Site Description', 'Irrigation Water', 'Air', 'Heat', 'FIPS Code', 'UTILITIES', 'FENCING', 'architectural_style', 'appliances', 'neighborhoods', 'original_listhub_key', 'Extra Room', 'Breakfast', 'Construction Status', 'Window Cover', 'Ownership', 'Source of SqFt', 'Municipality/Zoning', 'Property Sub-Type', 'Fire Prot Incl Taxes', 'Landscape - Front', 'Facilities', 'Dining Areas', 'Accessibility Option', 'Bathroom Features', 'Road Maintenance', 'Road Type', '# of Fireplaces', 'Tax Year', 'Main House SqFt', 'Taxes', 'Tax Code', 'CarportYN', 'ExteriorFeatures', 'Topography of land', 'Gas information', 'Architecture', 'Construction Phase', 'Sub Status', 'HOA AMENITIES', 'TOPOGRAPHY', 'CONSTRUCTION/EXT', 'DECKS', 'FLOOR COVERINGS', 'GAS', 'OTHER', 'BONUS ROOMS', 'Setting', 'ROOF', 'GARAGE/ PARKING', 'WOODSTOVE', 'SubArea', 'SPC DISC', 'Call to Show', 'Age', 'Sale/Rent', 'Service Type', 'SpaYN', 'StoriesTotal', 'HabitableResidenceYN', 'RoomFamilyRoomFeatures', 'View(s)', 'PROPERTY CONDITION', 'Builder model', 'CONSTRUCTION STATUS', 'COOLING', 'GARAGE/PARKING', 'KITCHEN FEATURES', 'LEVEL - STREET', 'ROOM - ADDITIONAL', 'WATER/SEWER', 'YARD DESCRIPTION', 'Garage (Y/N)', 'Source', 'EQUIPMENT ADDITIONAL', 'STYLE', 'FLOORING', 'HOA Fees Freq', 'Complex Name', 'UNIT FEATURE', 'POOL', 'FIREPLACES', 'List Date', 'WaterfrontFeatures', 'Kitchen Appliances', 'Other Structures', 'Fireplace Desc', 'Common Areas', 'HOA?', 'HOA Fee Includes', 'Laundry Appliances', 'Living Room', 'HOA Fee Paid', 'Shopping', 'Transportation', 'District', 'Square Footage Source', 'Subdist', 'Heating/Cooling', 'Monthly Parking Fees', 'Parking Access', 'Gas', 'LandFeeLease', 'SaleType', 'Disclosures', 'ListingTerms', 'assessorParcelNumber', 'Unit 1 Includes', 'Unit 2 Includes', 'Separate Meters', 'Floors', 'Unit 1', 'Unit 2', 'Energy Conservation', 'EXISTING LEASE TERMS', 'FINANCIAL DATA SOURCE', 'TENANT PAYS', 'TERMS', 'Range/Oven 1', 'Range/Oven 2', 'ADDTL MISC. FEATURES', 'DISCLOSURES', 'PARKING DESCRIPTION', 'Dist/Neighborhood/Subdiv', 'VOW AVM', 'VOW Comment', 'ConstructionStatus', 'AssociationFeesInclude', 'BathroomFeatures', 'Miscellaneous', 'Main Level', 'Other Rooms', 'Heating/Cooling Sys', 'Upper Level', 'Lower Level', 'Parking Leased', '# of Parking Spaces', 'Fireplace Type', 'Extra Rooms', 'ExteriorConstruction', 'WaterHeaterFeatures', 'BuildingType', 'PatioFeatures', 'Second HOA fee', 'Misc. Amenities', 'Cool', 'Waste', 'Lot Type', 'Bath', 'Reports', 'Property', 'GuestHouse', 'BuilderName', 'Finished area below ground', 'Bonds', 'Cable', 'Attic', 'ELECTRICITY', 'EntryLocation', 'Architecture Style', 'parking', 'has_lawn_fl', 'roof_types', 'viewpoints', 'Pool Features', 'Direction', 'Spa Features', 'Floor Covering', 'Concrete Type', 'Interior', 'Landscaping', 'Hot Water Heater Typ', 'Lawn Type', 'Pre - 1978', 'Power Source', 'Master Bedroom', 'Heat Type', 'Substructure', 'Sign', 'Refrigerator Type', 'Heater Type', 'Heat Source', 'Household Water Avlb', 'dining_rooms', 'living_rooms', 'fireplaces', 'has_security_system_fl', 'Driveway/Sidewalks', 'Water/Sewer', 'Bath Type/Includes', 'Known Short Sale', 'Floor Covering(s)', 'Service Level', 'Style Description', 'Room Description', 'Recreational Parking', 'Site Location', 'House Faces', 'Exclusive Use Areas', 'Detached Structures', 'Spa Type', 'Frontage', 'ACCESS', 'CONSTRUCTION', 'EXTERIOR SIDING', 'INSULATION', 'OTHER ROOMS', 'PROPERTY DESCRIPTION', 'Appx. Year Built Source', 'TREES', 'BATH', 'EXTERIOR FEATURES', 'OCCUPANT', 'EQUIPMENT', 'FOUNDATION', 'DownStairs Bedroom', 'DownStairs Full Bath', 'Stories Description', 'BATH-MASTER INCLUDES', 'BATH NON-MSTR INCLUDE', 'LEVEL - UPPER', 'VIEWS', 'Special Conditions', 'View Type', 'Other Property Features', 'Building Styles', 'Cooking Appliances', 'Cooling Type', 'Heating Fuel', 'Heating Type', 'Laundry Locations', 'Entry Location', 'Bedroom Features', 'Patio Features', 'Water Heater Feature', 'Rented', 'CurrentFinancing', 'Unit Description', 'Construction Materials', 'Architectural Style', 'Window Features', 'Living Room Features', 'Association Mandatory', 'Association Fee Frequency', 'Street Suffix', 'Pets Allowed', 'Association Fee Includes', 'Patio And Porch Features', 'Kitchen Features', 'Assessor Parcel Number', 'Meters', 'Unit 1 Number of Bedrooms', 'Unit 2 Rent', 'Unit 2 Number of Bedrooms', 'Unit 3 Number of Bedrooms', 'Unit 4 Number of Bedrooms', 'Unit 2 Approx Square Footage', 'Unit 3 Approx Square Footage', 'Unit Type 1 Approx SqFt', 'Unit 3 Rent', 'Unit 4 Approx Square Footage', 'Unit 1 Rent', 'Unit 4 Rent', 'Features', 'Features Misc', 'central_air_desc', 'Listing Terms', 'Sale Type', 'Occupant Type', 'Showing Contact Type', '% or $', 'NBHD Market Report', 'Other parking information', 'Entry Level', 'Residential vegetation', 'PropertyAttachedYN', 'OwnerPays', 'WaterSewerExpense', 'InsuranceExpense', 'GrossIncome', 'NetOperatingIncome', 'OperatingExpense', 'CapRate', 'ProfessionalManagementExpense', 'ManagerExpense', 'OtherExpense', 'NewTaxesExpense', 'GrossScheduledIncome', 'VacancyAllowance', 'OtherParking', 'SuppliesExpense', 'EntryLevel', 'has_wet_bar_fl', 'CommonInterest', 'Eating Areas', 'Fireplace Y/N', 'Fireplace Fuel', 'Fireplace Location', 'Land Lease Type', 'Ext Construction', 'State', 'Agreement Type', 'Other Prop Features', 'Security/Safety', 'Lot Location', 'Property Condition', 'Water Htr Features', 'Disability Access', 'Building Style', 'Front of House Faces', 'BATHROOMS', 'EASEMENTS', 'DINING ROOM', 'ENERGY', 'FLOORS', 'LANDSCAPE', 'LAUNDRY ROOM', 'LIVING ROOM', 'LOT COVERAGE', 'MASTER BEDROOM', 'PATIO/DECK', 'ROAD', 'STYLE/CONSTRUCTION', 'UTIL AVAIL', 'Pest Inspection', 'Propane Tank', 'HOA 1 (Y/N)', 'Property Corners', 'AGE RANGE', 'AMENITIES', 'AIR CONDITION', 'MASTER BATH', 'SQ FT RANGE', 'COMMON AMENITIES C-T', 'Sub Area', 'WATER FEATURE', 'LA1Agent Phone1 CountryId', 'SQUARE FOOTAGE SOURCE', 'LO1OfficePhone1CountryId', 'BEDROOMS', 'F/BATHS', 'GARAGE', 'LEVELS', 'H/BATHS', 'GARAGE INFO', 'OUT BUILDINGS', 'Street Designation', 'Warranty included', 'FAMILY ROOM', 'Accessory Dwelling Type', 'Listing Service', 'Fireplace(s)', 'Landscape - Rear', 'Technology', 'Exterior Siding', 'Home Warranty', 'Property Lines', 'Interior Finish', 'Pers Prop Included', 'Tanks', 'UST', 'Outbuildings', 'Contingent', 'Internet Availability', 'LEVEL - LOWER', 'Pool (Y/N)', 'PETS', 'Lockbox Type', 'Taxes For', 'Living Areas', 'Location of Frplces', 'Green Features', 'Vacant Y/N', 'EXT AMENITIES', 'INT AMENITIES', 'WINDOWS', 'Restrictions', 'heating_desc', 'style_desc', 'garage', 'grade_school', 'dining_room_desc', 'exterior_features_desc', 'interior_features_desc', 'living_room_desc', 'Horse Property Description', 'Other Room(s)', 'Seasonal', 'Paved Street', 'STREET/ROAD INFORMATION', 'Corner Mark', 'CCRs', 'Septic', 'Subdivision', 'RoomsTotal', 'RoomLivingRoomFeatures', 'AvailabilityDate', 'Heat/Cool', 'Refrigerator', 'Dishwasher', 'Family', 'Leased Equipment', 'MajorChangeType', 'MLS Origin', 'Age Requirement', 'Bath Description', 'Land Information', 'Rent Includes', 'Park Information', 'Skirting', 'Subtype Desc', 'Frplc Type/Location', 'School District County', 'Probable Use', 'Irrigation', 'Mineral', 'Sewer-Septic', 'Topo-Site Desc.', 'Road Frontage', 'Utility', 'RV Parking', 'Lease Term', 'Exterior Type', 'Disabled Features', 'Horse Amenities', 'PORCH/PATIO', 'Available Terms', 'HOA Amount', 'Sales Type', 'Location', 'Structure Type', 'Type of Property', 'Lot Size', 'Counters', '# Fireplaces/Stoves', 'Landscaped', 'Views', 'Improvements', 'Green verification', '2nd Unit', '3rd Floor', 'Existing Crops/Vegetation', 'Master Bathroom Features', 'Master Bedroom Features', 'Energy Efficient', 'Accessibility Features', 'LandLeaseAmount', 'Land development status', 'Ranch/Farm Amenities', 'SETTING', 'HOA or Building Fee', 'Community 55 Over', 'Special Listing Conditions', 'Room Type', 'Community Features', 'Property Sub Type', 'PetsAllowed', 'IsSignOnPropertyYN', 'ProbateYN', 'Paved Streets Y/N', 'EXTERIOR CONDITION', 'INTERIOR CONDITION', 'Environmental Discl', 'Neighborhood Features', 'Electricity', 'Sub Type', 'Roads', 'HOA DOCUMENTS', 'HOA FEES INCLUDE', 'Pending Litigation', 'HOA Name', 'HighMidRiseAmenities', 'Potential Use', 'Accessibility', 'WATERFRONT AMENITIES', 'Laundry Equipment', 'Landlord Pays For', 'Unit-2 Furnished', 'Showing Access', 'Tenant Pays For', 'Unit-1 Furnished', 'Subdiv/Trac Code', 'TV Services', 'Tax ID', 'Security', 'Garage/Carport Feat', 'DoorFeatures', 'HOA 2 (Y/N)', '# of Buildings', 'Unit 1 # Total Baths', 'Unit 2 # Total Baths', 'Unit 1 # of Half Baths', 'Unit 2 # of Half Baths', 'Unit 1 # of Full Baths', 'Unit 2 # of Full Baths', 'Unit 1 # Bedrooms', 'Unit 3 # of Half Baths', 'Unit 3 # Bedrooms', 'Unit 2 # Bedrooms', 'Unit 3 # Total Baths', 'Unit 3 # of Full Baths', 'Unit 4 # of Half Baths', 'Unit 4 # Bedrooms', 'Unit 4 # Total Baths', 'Unit 4 # of Full Baths', 'Lock Box Type', 'Lock Box Location', 'Contact Order 1', 'On Market', 'Contact Order 2', 'Gated Entry', 'Utilities Lot Line', 'Well', 'Tax Mello Roos', 'LaundryEquipment', 'BuildingFeatures', 'POSSIBLE USE', 'GATED', 'LotDimensionsSource', 'Frontage type', 'Frontage length', 'LeaseAmountFrequency', 'FrontageLength', 'FrontageType', 'Family  Room', 'List Team', 'HANDICAPPED FRIENDLY', 'Unit 3', 'Unit 4', 'BATH FEATURES', 'ROADS', 'SPRINKLERS', 'GARAGE PARKING', 'WaterfrontYN', 'IncomeIncludes', 'CABLE TV', 'PHONE', 'UTILITIES AT STREET', 'Family Room Features', 'Association Features', 'WINDOW TRTMT', 'WARRANTY PROGRAM', 'NewConstructionYN', 'LandLeaseAmountFrequency', 'LandLeaseAmountSource', 'Horse Property Features', 'Crops', 'Bedrooms Total', 'Contingent Remarks', 'Lot Acres', 'AssociationFee2Frequency', 'Heat Equipment', 'Sales Restrictions', 'Searchable Rooms', 'Laundry Location', 'Prop Restrictions Known', 'Sewer/Septic', 'Age Restrictions', 'Laundry Utilities', 'Optional Bedrooms', 'Fireplaces(s)', 'Family Room Dimensions', 'Dining Room Dimensions', 'Master Bedroom Dimensions', 'Bedroom 2 Dimensions', 'Kitchen Dimensions', 'Assessors Parcel #', 'GREEN FEATURES', 'LotLocation', 'Assoc/Park Amenities', 'WATER DISTRICT', 'Pool Location', 'DECK/PATIO', 'INTERNET AVAILABLE', 'TELEVISION', 'View River', 'Waterfront River', 'Payment Schedule', 'IMPROVEMENTS', 'Buildings', 'Inside Extras', 'Main Access', 'Outside Extras', 'Dining Area', 'Additional Features', 'Master Bdrm Features', 'Occupied', 'Type of Ownership', 'Patio/Deck', 'Water Heater', 'Fireplace Descrip.', 'Number Of Lots', 'Use', 'Green Amenities', 'Location Fireplace', 'Air Conditioning', 'FEMA Flood Ins Req', 'Laundry Appliance', 'Unit 1 Bedrooms', 'Unit 1 Baths Full', 'Unit 2 Baths Full', 'Unit 2 Half Baths', 'Unit 2 Bedrooms', 'Unit 1 Half Baths', 'Property Subtype 2', '2nd Dwelling Partial Baths', '2nd Dwelling Type', '2nd Dwelling Full Baths', '2nd Dwelling Bedrooms', 'Mobile Make', 'Mobile Dimensions', 'Mobile Ser. #', 'Mobile Ser.# 2', 'Utility Availability', 'Distance to Trans', 'Den or Home Office', 'Actual or Scheduled', 'Scope of Service', 'Tenant Pays', 'Door Features', 'Foundation Details', 'RoomDiningRoomLevel', 'RoomFamilyRoomLevel', 'RoomKitchenLevel', 'RoomLivingRoomLevel', 'TotalActualRent', 'Satellite Dish', 'Handicap Access', 'Hours Limited', 'Fire District', 'Flood Zone', \"Buyer's Benefits\", 'Mobile Home', 'Existing Structures', 'SiteDecription', 'Legal Access', 'Land Use', 'Natural Gas', 'NumberOfLots', 'DistanceToGasComments', 'TaxAnnualAmount', 'Special Information', 'Recreation', 'Attached Documents', 'TIC Agreement', 'Guest Facilities', 'Guest House SqFt', 'UTILITIES AT PROPERTY', 'ELEVATION RANGE', 'VIEW Y/N', 'WATER AVAILABLE', 'COVERAGE', 'Surveyed Y/N', 'Handicapped Access', 'Pond', 'Sprinkler', 'Assoc Amenities', 'Street Direction', 'LA2Agent Phone1 CountryId', 'LO2OfficePhone1CountryId', 'Active Lake Membership', 'FENCE', 'ATTIC', 'EXTRAS', 'CROPS', 'Construction elements', 'Irrigation Wells', 'Building on Site', 'Domestic Wells', 'Heating fuel', 'Rent Source', 'Rent Type', 'ASSOCIATION FEE INCLU', 'HOA - COMMUNITY AMENITIES', 'Location/Topo', 'Site Improvements', 'Proximity', 'Appliances Included', 'Flr/Wdw Coverings', 'Deposit', 'Reports Available', 'Within City Limits', 'Condition', 'Year Built', 'BodyType', 'LandLeaseYN', 'Skirt', 'RentIncludes', 'ParkName', 'Make', 'Model', 'SerialU', 'Equipment Included', 'Electric Location', 'Natural Gas Location', 'Sewer Service', 'Horse Facilities', 'Site', 'Secondary Area', 'Association Pet Rules', 'Association Amenities', 'HOA Includes', 'Lot Shape', 'Housing Type', 'RV Access', 'Streets', 'Climate Control Heat', 'Furnished Y/P/N', 'Other Room', 'DISABLED FEATURES', 'Assigned Parking Y/N', 'LOCATION C-T', 'TVServices', 'Assoc Fees Includes', 'OtherExtFeatures', 'Other Parking YN', 'Landscaping YN', 'EnergyFeatures', 'Virtual Tour Y/N YN', 'Horse/Ranch Amen', 'School Type 3', 'Equipment/Comm', 'School Type 1', 'Disclosures/Reports', 'School Type 2', 'School Name 1', 'School Name 2', 'School Name 3', 'SURFACE WATER', 'Appliance Refrigerator', 'Appliance Oven', 'Appliance Dishwasher', 'Building Pool', 'Volt220Location', 'Lower Lvl/Bsmt', 'Use Type', 'Property Description', 'Windows & Coverings', 'Water Features', 'Water Service', 'Soil', 'associationRules', 'Appliances/Equip', 'Operating Expenses', 'Loading', 'Disability Features', 'Spa Y/N', 'ORIENTATION', 'Appliance Microwave', 'Appliance Garbage Disposal', 'Mobile Park Type', 'HOA Dues Include', 'ProbateAuthority', 'ReportsOnFile', 'LegalDescription', 'TaxTractNumber: ', 'Assoc. Fees', 'Window Covering', 'Short Sale', 'Waterfront', 'Waterfront Features', 'St. Direction Suffix', 'Documents', 'WaterWellYN', 'Project Area', 'WINDOW TREATMENTS', 'Project Name', 'Assoc Fees Include', 'GrnWaterConservation', 'DistanceToWaterComments', 'Security Safety', 'Garage Description', 'Unit Location', 'Land Type', 'Floor Coverings', 'Structures', 'Telecommunications', 'Exclusive Use Yard', 'Pets', 'Approximate Living Space', 'Interior Walls', 'Water Heater Type', 'Sub-Flooring', 'Market Area', 'Land Use Code', 'Water District', 'has_disabled_access_fl', 'Map Book', 'Map X Coordinate', 'Map Y Coordinate', 'Map Page', 'Pool Construction', 'Spa/Hot Tub Construction', 'Spa/Hot Tub Description', 'Pool Description', 'Spa/Hot Tub', 'Gated Community', 'Window Treatments', 'Other Structural Features', 'Property Orientation Faces', 'Volt 220 Location', 'Doors', 'Range Hood', 'Green Energy Efficient', 'Green Location', 'Water Access', 'Unit Level', 'Paid', 'Electricity YN', 'Pers Prop Incl', 'Park Name', 'No. Fireplaces', 'Lease Per Month/Year', 'Improvements Req', 'ScheduledActual', 'WaterHeatersYN', 'Body Type', 'Road Frontage Type', 'Extra Room(s)', 'Pump', 'Existing Use', 'Sale Includes', 'Type of Use', 'DisabilityAccess', 'Land Configuration', 'Permitted to Use', 'Primary Vegetation', \"CC&R's\", 'MobileLength', 'MobileWidth', 'DOH1', 'Complex/Park', 'Unit 2 Estimated SqFt', 'Unit 1 Estimated SqFt', 'Unit # for Unit 1', 'Unit # for Unit 2', 'Garage/Carport', 'Landscape Front', 'Association Amenties', 'Phase Name', 'BelowGradeFinishedAreaUnits', 'RoomMasterBedroomLevel', 'CropsIncludedYN', 'Unit 3 Baths Full', 'Unit 4 Bedrooms', 'Unit 4 Baths Full', 'Unit 4 Half Baths', 'Unit 3 Bedrooms', 'Unit 3 Half Baths', 'Pool/Spa', 'Sale/Lease-Rent', 'HOA Payment Schedule', 'Showing Instructions', 'SEWER/WATER', 'Fire Place Y/N', 'Lease Information', 'LeasePerMonthYear', 'Unit 3 Includes', 'Bedroom 3 Dimensions', 'Bedroom 4 Dimensions', 'CORNERS', 'Unit-4 Furnished', 'Unit-3 Furnished', 'Mobile Assessor Parcel #', 'AlleyYN', 'Park Description', 'Mobile Home In Park', 'Mobile Home Type', 'Subord/Release', 'Survey', 'Additional Bedroom', 'Master Bathroom', 'Pool - Private', 'Unit Style', 'Const - Finish', 'Association Fee Incl', 'Services', \"Add'l Property Use\", 'Source Apx Lot SqFt', 'Tax Municipality', 'Exterior Stories', 'New Financing', 'Dwelling Styles', 'Horses', 'Configuration', 'Unit #/Space #', 'LandIncludedYN', 'LandLeaseType', 'MobileHomeToRemainYN', 'MobileHomeType', 'ParkType', 'Land', 'Pool Descriptions', 'RV', 'Back On Market', 'Residence Descrip.', 'Propane', 'Propane Location', 'Unit 3 Estimated SqFt', 'Unit 4 Estimated SqFt', 'Unit # for Unit 3', 'Unit # for Unit 4', 'TennisCourt', 'MULTI-FAMILY IN', 'STYLE/STORY', 'HEATING SYSTEM', 'Cond', 'Has heating', 'Entry Level Unit', 'Units in Building', 'Units in Complex', 'Home Protection Plan', 'FLOOR', 'WATER FRONT', 'LaundryEquipmentOwnLease', 'YearBuiltDetails', 'AssociationPhone', 'AssociationName', 'Pool Y/N', 'Spa Construction', 'Spa Descriptions', 'Building Pets Allowed', 'Home Width', 'Tax Status', 'A.C.', 'Foundation Y/N', 'Residential Style', 'Pool Accessories', 'Assoc Pet Rules', 'GrnBldgCertification', 'CFD/Mello-Roos Fee Reflct', 'CFD/Mello-Roos Pay Freq.', 'Telephone YN', 'Property Features', 'Width', 'Paved Streets', 'IRRIGATION TYPE', 'CoListAgentFullName', 'Spa Description', 'High Mid Rise Amenities', 'Priv Assn Amenities', 'Personal Prop Included', 'REO', 'Sales Excludes', 'Assoc/Park Fee Incl', 'Climate Control Cool', 'GreenBuildingVerificationType', 'BuilderModel', 'Property Disclosures', '2nd Dwelling SqFt Source', '2nd Dwelling Kitchen', 'Submit with Offer', 'AssessorParcelNumber', 'Pool YN', 'Building features', 'BuildingName', 'Unit Type', 'Sub Zoning', 'Tenant Expenses', 'Existing Rntl Terms', 'Some Units Include', 'REPORTS DISCLOSURES', 'Surveyed', 'UTILITY ON SITE', 'Paid By', 'Assessments', 'INSPECTIONS/REPORTS', 'USE ZONING', 'ROAD IMPROVEMENTS', 'DEVELOPMENT STATUS', 'UTIL AVAIL/NOT ON SITE', 'HOA TRANSFER FEES', 'Occupancy', 'Condo/CO-OP/PUD', 'IrrigationWaterRightsYN', 'MISC C-T', 'has_ceiling_fan_fl', 'taxes_annual', 'Apx SqFt Src-Second', 'Year Built Exception', 'Under Construction', 'Other Buildings', 'Legal', 'PlannedUrbanDev', 'Frontage Type', 'Gas (Natural) YN', 'Elevation', 'Elevation Source', 'Hazardous Material', 'Road Access', 'Personal Property Inc. 2', 'ChangeType', 'Other Amenities', 'Other Appliances', 'Permanent Crops', 'Additional Parcels Y/N', 'Crop', 'NumberOfUnitsInCommunity', 'Green Energy', 'Uncovered Parking', 'Detached Garage', 'HOA Information', 'MONTHLY MAINT REQ C-T', 'Playing Courts', 'Complex Features', 'Finished area above ground', 'Utility Info', 'TYP', 'MINERAL RIGHTS', 'UnitFurnished1', 'UnitFurnished2', 'UnitsPerAcre', 'CoListingMemberName', 'New Construction', 'Build Up', 'Master Bed Features', 'flooring', 'OUTBUILDINGS', 'has_sprinkler_system_fl', 'UnitLocation', 'Unit 1 Occupancy', 'Unit 1 Lease Term', 'Unit 1 SqFt Source', 'Unit 2 Lease Term', 'Unit 2 Occupancy', 'Unit 2 SqFt Source', 'Unit-6 Furnished', 'Unit-8 Furnished', 'Unit-5 Furnished', 'Unit-7 Furnished', 'Road Maintainence', 'Acres', 'UTILITIES AVAILABLE', 'Indoor air quality', 'UnitsFurnished', 'All Units Include', 'Current Tax Status', 'Faces', 'GreenSustainability', 'FENCED', 'Land Included', 'MobileHome To Remain', 'Property Orientation', 'Range/Stove', 'Trash', 'Senior Community', 'Golf Course Within Development', 'Rental Restrictions', 'Included in Sale', 'Property Attached/Detached', 'Longer Tour at https', 'See https', 'Video Tour at https', 'Virtual Open House Link', 'Appliance Dryer', 'Appliance Washer', 'Building Gym', 'MISCELLANEOUS', 'GARAGE TYPE', 'WINDOW COVERING', 'MANAGEMENT PAYS', 'OccupantType', 'Apx Age', 'Loft YN', 'INFO WITH BROKER', 'PARKING SURFACE', 'PROPERTY EXTRA 1', 'Utilities Available', 'Utilities to Site', 'Development', 'Exterior Feature', 'Cable YN', 'Bedrooms #', '# Carport', '# Half Baths', 'ADJOINS', 'Baths #Full or 3/4', 'LAUNDRY AREA', 'HEATING/COOLING', '# Garage', 'KITCHEN', 'Automated Valuation', 'Sale/Lease', 'INTERIOR FIXTURES', 'APPLIANCES INCL PSNL PROP', 'Ownership Type', 'APPROX AGE', 'Senior Park Y/N', 'INTERNET INFO', 'PROPANE TANK', 'MainLevelBedrooms', 'RoomBedroomFeatures', 'Den', 'SEAZMLS Lockbox', 'Pets Y/N YN', 'basement_desc', 'Disposal', 'PublicSurveySection', 'PublicSurveyTownship', 'Inclusions', 'PublicSurveyRange', 'Residential Unit Location', 'Leased/Forest Service', '1st Unit Beds/Baths', '3rd Unit Beds/Baths', '2nd Unit Beds/Baths', 'PARK RENT INCLUDES', 'T.V.', 'RV Storage', 'StorageYN', 'HeatingFuel', 'Willamson Act', 'Distance fromTown', 'Additional Property Use', 'Topography_dupe', 'CondoAmenities', 'Bedrooms \\\\ Miscellaneous', 'Other Interior Features \\\\ Miscellaneous', 'Other \\\\ Miscellaneous', 'Patio\\\\Deck', 'Allow Address Display', 'Allow Automated Valuations', 'Allow Public Commentary', 'PowerProductionType', 'Mello Roos/CFD', 'Solar', 'Pets/Animals', 'Road Acc/Maint', 'HOA Y/N', 'REO/Short Sale', 'Utilities Installed', 'Window/ Coverings', 'Topo/Location', 'Terms & Conditions', 'HOA Type', 'Foundation/Basement', 'Source of Measuremnt', 'RV/Garage/Park', 'HOA Dues Due', 'is_new_construction_fl', 'Prop. Restrictions Known', 'MAN./MOBILE HOME', 'Proximity to', 'AC', 'Cov Park/Gar Y/N Unit 1', 'PARKING', 'GreenIndoorAirQuality', 'CoListAgentEmail', 'HOA 1 Fee Frequency', 'Will Consider Lease', 'Other \\\\ Virtual Open House End Time \\\\ 05/10/2020 16', 'Other \\\\ Virtual Open House Link \\\\ https', 'Other \\\\ Virtual Open House Start Time \\\\ 05/10/2020 10', 'Japanese American National Museum, showcasing artifacts and memorabilia with exhibits such as Common Ground', 'DistanceToPhoneServiceComments', 'DistanceToSewerComments', 'Basement Type', 'Water Source Type', 'Floor Hardwood', 'Soil Classification', 'Accessibility Optns', 'Variable Y/N', 'Green', 'Bnds/Asmts/Taxs Desc', 'Renewable Energy', 'Income Producing', 'City Transfer Tax', 'HOA \\\\ HOA Information', 'Assessor Parcel Number 2', 'Assessor Parcel Number 3', 'StoriesByClass', 'Bond Assessment', 'Geological Hazard', 'Tract Map', 'HYDROLOGIC ZONE', 'Patio 1', 'Surface Water', 'Street Post Direction', 'Sewer Connected?', 'Sewer In?', 'Sewer Paid?', 'Mello-Roos Tax', 'Attached Garage', 'Road Access/Maint', 'Building Restriction', 'Records Avail', 'Other Docs on File', 'Lot Improvements', 'Site/Soil Evaluation', 'Board ID', 'Guest House', 'Elevator', 'Attached Style', 'Entry Level Building', 'Storage', 'Sale Inclusions', 'BuildingPermitYN', 'Allocation', 'Cable TV', 'TrackMap', 'Incorporated Y/N', 'GreenLocation', 'SEPARATE METERS', 'ALL UNITS HAVE', 'OTHER UNITS', 'Air Cond 1', 'Air Cond 2', 'Parcel Description', 'Income', 'Property Subtype 3', 'Extra Room 1 Dimensions', 'Paved', 'Interior Featuress', \"Add'l Living Desc\", 'open house on Jun 2, 11am--12', 'Location of Unit', 'NumberOfSeparateGasMeters', 'NumberOfSeparateElectricMeters', 'NumberOfSeparateWaterMeters', 'RentControlYN', 'Internet Address Field', 'mgr', 'pets', 'year built', 'associationFeesInclude', 'Zoned for Horses', 'Manufactured/Mobile', 'Out Buildings', 'View Mountain', 'View Scenic', 'Entry Foyer', 'Owner Expenses', 'Records Availabile', 'Split Bedroom Plan', 'RV Garage/Parking', 'Subdivision Features', 'https', 'Major Remodel year', 'Parking ', 'Frontage Dimensions in Ft', 'Green Energy Generation', 'Axles', 'Breakfast Area Dimensions', 'OperatingExpenseIncludes', 'VacancyAllowanceRate', 'Home Owners Assoc', 'Assn. Amenities', 'All Bosch appliances included', 'Apply; http', 'Call or text', 'Cert of Compliance', 'Unit 4 Includes', 'INCLUDE IN ZILLOW FEED', '2nd Dwelling Occupied', 'AdditionalParcelNumber', 'RoomDiningRoomDescription', 'Finance Terms', 'TRPA Tableof Uses', 'Zoning County', 'Boat Facilities', 'Legal Description', 'Street Lights', 'For an application to rent, please use', 'design_desc', 'Mobile Home Information', 'Month Lease Amount', 'Assoc Rules/Info', 'ACCESS ROAD', 'ACCESS TYPE', 'DEED RESTRICTIONS', 'DOMESTIC WATER', 'EXISTING SEWER/SEPTIC', 'CORNERS MARKED', 'Unit 3 Occupancy', 'Unit 3 SqFt Source', 'Pool Heat', 'Guest House Est. SqFt', 'High School District', 'Unit 1 Furnished', 'Unit 2 Furnished', 'Unit 4 Furnished', 'Unit 3 Furnished', 'Unit 5 Furnished', 'Unit 7 Furnished', 'Unit 8 Furnished', 'Park Features', 'Special Documents', 'Unit Feature Laundry', 'Assoc/HOA Fee Incl', 'HOA/Comm Amenities', 'Assoc/HOA Frequency', 'Entry Level Master', 'Geological Info', 'Showing', 'Rental Contract', 'Corners Marked', 'Building Pad', 'Mineral Rights', 'Contingent Upon', 'HeatingSystem', 'CoolingSystem', 'Dock Facilities', 'Dock', 'SkirtDescription', 'LeaseTerms', 'MLSID', 'SingleFamilyOrApt', 'UnitFurnished3', 'UnitFurnished4', 'UnitFurnished5', 'UnitFurnished6', 'UnitFurnished7', 'UnitFurnished8', 'UnitFurnished9', 'Building Laundry Room', 'Lot Area Includes', 'Point of Sale Ordinance', 'Associated Document Count', 'Green Ratings', 'AdditionsAlterationsYN', 'Method of Title', 'Freeway/Highway', 'Has Central AC', 'Heat Type Forced Air', 'Owner Financing', 'TaxMapNumber', 'Elec - Individual', 'Gas - Individual', 'Wtr Htr - Individual', 'Heating Types', 'Gas - Master', 'Elec - Master', 'Water - Master', 'Water - Individual', 'Wtr Htr - Master', 'ENERGY SAVING FEATURE', 'Permitted Use', 'Owner Carry', 'Parcel Size', 'Parcel Improvements', 'Well Disclosure', 'remodeled', 'DOH2', 'SerialX', 'Full Baths', 'Tax Legal Lot Number', 'Tax Legal Block Number', 'Tax Legal Tract Number', 'Building Name']\n"
     ]
    }
   ],
   "source": [
    "#check missing columns and check columns with 30% missing values\n",
    "missing_cols = house_sales.isna().sum()\n",
    "print(\"Missing columns ===>\")\n",
    "print(missing_cols)\n",
    "\n",
    "missing_percent = house_sales.isna().sum() * 100 / len(house_sales)\n",
    "missing_cols_30p = missing_percent[missing_percent >= 30].index.tolist()\n",
    "print(\"\\n\\nColumns with 30% missing values ===>\")\n",
    "print(missing_cols_30p)"
   ]
  },
  {
   "cell_type": "code",
   "execution_count": 33,
   "id": "444b0377",
   "metadata": {},
   "outputs": [
    {
     "name": "stdout",
     "output_type": "stream",
     "text": [
      "(164944, 32)\n"
     ]
    }
   ],
   "source": [
    "#drop columns that at least 30% values are null \n",
    "house_sales.drop(missing_cols_30p, axis=1, inplace=True)\n",
    "print(house_sales.shape)"
   ]
  },
  {
   "cell_type": "code",
   "execution_count": 34,
   "id": "e06b2b96",
   "metadata": {},
   "outputs": [
    {
     "name": "stdout",
     "output_type": "stream",
     "text": [
      "Id                             object\n",
      "Address                        object\n",
      "Sold Price                     object\n",
      "Sold On                        object\n",
      "Summary                        object\n",
      "Type                           object\n",
      "Year built                     object\n",
      "Heating                        object\n",
      "Cooling                        object\n",
      "Parking                        object\n",
      "Bedrooms                       object\n",
      "Bathrooms                      object\n",
      "Total interior livable area    object\n",
      "Total spaces                   object\n",
      "Garage spaces                  object\n",
      "Home type                      object\n",
      "Region                         object\n",
      "Elementary School              object\n",
      "Elementary School Score        object\n",
      "Elementary School Distance     object\n",
      "High School                    object\n",
      "High School Score              object\n",
      "High School Distance           object\n",
      "Heating features               object\n",
      "Parking features               object\n",
      "Lot size                       object\n",
      "Parcel number                  object\n",
      "Tax assessed value             object\n",
      "Annual tax amount              object\n",
      "Listed On                      object\n",
      "Listed Price                   object\n",
      "Zip                            object\n",
      "dtype: object\n"
     ]
    }
   ],
   "source": [
    "#Next we check the data types\n",
    "print(house_sales.dtypes)"
   ]
  },
  {
   "cell_type": "code",
   "execution_count": 39,
   "id": "c0595d3c",
   "metadata": {},
   "outputs": [
    {
     "name": "stdout",
     "output_type": "stream",
     "text": [
      "   Sold Price\n",
      "0  $2,000,000\n",
      "1  $2,100,000\n"
     ]
    }
   ],
   "source": [
    "#Convert currency from string format such as $1,000,000 to float.use replace() and astype() methods. also use regex=True\n",
    "\n",
    "print(house_sales.filter(items=['Sold Price']).head(2))"
   ]
  },
  {
   "cell_type": "code",
   "execution_count": 12,
   "id": "454c3949",
   "metadata": {},
   "outputs": [],
   "source": [
    "#Also convert areas from string format such as 1000 sqft and 1 Acres to float as well."
   ]
  },
  {
   "cell_type": "code",
   "execution_count": 8,
   "id": "898b68d7",
   "metadata": {},
   "outputs": [],
   "source": [
    "#Now we can check values of the numerical columns. You could see the min and max values for several columns do not make sense."
   ]
  },
  {
   "cell_type": "code",
   "execution_count": 9,
   "id": "cd423cc3",
   "metadata": {},
   "outputs": [],
   "source": [
    "#filter out houses whose living areas are too small or too hard to simplify the visualization later."
   ]
  },
  {
   "cell_type": "code",
   "execution_count": 11,
   "id": "cdda5468",
   "metadata": {},
   "outputs": [],
   "source": [
    "#Let's check the histogram of the 'Sold Price', which is the target we want to predict."
   ]
  },
  {
   "cell_type": "code",
   "execution_count": 12,
   "id": "bdc1993f",
   "metadata": {},
   "outputs": [],
   "source": [
    "#A house has different types. Here are the top 20 types"
   ]
  },
  {
   "cell_type": "code",
   "execution_count": 13,
   "id": "b038d21b",
   "metadata": {},
   "outputs": [],
   "source": [
    "#visulaize Price density (sold price) for different house types.\n"
   ]
  },
  {
   "cell_type": "code",
   "execution_count": 14,
   "id": "025a53cc",
   "metadata": {},
   "outputs": [],
   "source": [
    "#Another important measurement is the sale price per living sqft. Let's check the differences between different house types.\n"
   ]
  },
  {
   "cell_type": "code",
   "execution_count": 15,
   "id": "741aebad",
   "metadata": {},
   "outputs": [],
   "source": [
    "#We know the location affect the price. Let's check the price for the top 20 zip codes."
   ]
  },
  {
   "cell_type": "code",
   "execution_count": 16,
   "id": "802363a0",
   "metadata": {},
   "outputs": [],
   "source": [
    "#Last, we visualize the correlation matrix of several columns"
   ]
  },
  {
   "cell_type": "markdown",
   "id": "aca9c13e",
   "metadata": {},
   "source": [
    "# Summary\n",
    "\n",
    "This notebook demonstrates the basic technologies for EDA, including\n",
    "\n",
    "- Understanding column data types, values, and distributions\n",
    "- Understanding the interactions between columns\n",
    "\n",
    "We only explored a small aspect of the data. You are welcome to dive deep into more details."
   ]
  },
  {
   "cell_type": "code",
   "execution_count": null,
   "id": "6a4e2719",
   "metadata": {},
   "outputs": [],
   "source": []
  }
 ],
 "metadata": {
  "kernelspec": {
   "display_name": "Python 3 (ipykernel)",
   "language": "python",
   "name": "python3"
  },
  "language_info": {
   "codemirror_mode": {
    "name": "ipython",
    "version": 3
   },
   "file_extension": ".py",
   "mimetype": "text/x-python",
   "name": "python",
   "nbconvert_exporter": "python",
   "pygments_lexer": "ipython3",
   "version": "3.9.13"
  }
 },
 "nbformat": 4,
 "nbformat_minor": 5
}
