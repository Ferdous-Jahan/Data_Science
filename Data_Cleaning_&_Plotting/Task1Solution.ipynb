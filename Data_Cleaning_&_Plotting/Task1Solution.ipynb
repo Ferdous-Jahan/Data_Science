{
 "cells": [
  {
   "cell_type": "code",
   "execution_count": 2,
   "id": "ba7fb81c",
   "metadata": {},
   "outputs": [
    {
     "name": "stdout",
     "output_type": "stream",
     "text": [
      "0     1\n",
      "1     7\n",
      "2     2\n",
      "3    -4\n",
      "4   -99\n",
      "5    -1\n",
      "6    13\n",
      "7     8\n",
      "8    -9\n",
      "9   -10\n",
      "dtype: int64\n"
     ]
    }
   ],
   "source": [
    "#Create a series with 10 elements containing both positive and negative integers\n",
    "import pandas as pd\n",
    "\n",
    "a = [1, 7, 2, -4, -99, -1, 13, 8, -9, -10]\n",
    "\n",
    "mySeries = pd.Series(a)\n",
    "\n",
    "print(mySeries)"
   ]
  },
  {
   "cell_type": "code",
   "execution_count": 3,
   "id": "4195ce11",
   "metadata": {},
   "outputs": [
    {
     "data": {
      "text/plain": [
       "0     1\n",
       "1     7\n",
       "2     2\n",
       "3    -4\n",
       "4   -99\n",
       "dtype: int64"
      ]
     },
     "execution_count": 3,
     "metadata": {},
     "output_type": "execute_result"
    }
   ],
   "source": [
    "# Examine the series with the head() method\n",
    "\n",
    "mySeries.head(5)"
   ]
  },
  {
   "cell_type": "code",
   "execution_count": 9,
   "id": "35ba03d5",
   "metadata": {},
   "outputs": [
    {
     "name": "stdout",
     "output_type": "stream",
     "text": [
      "Negative values from mySeries ===>\n",
      "3    -4\n",
      "4   -99\n",
      "5    -1\n",
      "8    -9\n",
      "9   -10\n",
      "dtype: int64\n",
      "Creating a copy of from mySeries ===>\n",
      "0     1\n",
      "1     7\n",
      "2     2\n",
      "3    -4\n",
      "4   -99\n",
      "5    -1\n",
      "6    13\n",
      "7     8\n",
      "8    -9\n",
      "9   -10\n",
      "dtype: int64\n",
      "Negative values from copySeries ===>\n",
      "3    -4\n",
      "4   -99\n",
      "5    -1\n",
      "8    -9\n",
      "9   -10\n",
      "dtype: int64\n"
     ]
    }
   ],
   "source": [
    "# Create a new series from the originally created series with only negative numbers\n",
    "negativeSeries = mySeries.loc[lambda x : x < 0]\n",
    "print(\"Negative values from mySeries ===>\")\n",
    "print(negativeSeries)\n",
    "\n",
    "# Create the original series with both positive and negative numbers\n",
    "copySeries = mySeries\n",
    "print(\"Creating a copy of from mySeries ===>\")\n",
    "print(copySeries)\n",
    "\n",
    "# Create a new series with only the negative numbers from the original series\n",
    "negativeCopySeries = mySeries.loc[lambda x : x < 0]\n",
    "print(\"Negative values from copySeries ===>\")\n",
    "print(negativeCopySeries)\n"
   ]
  },
  {
   "cell_type": "code",
   "execution_count": 4,
   "id": "4ce58b8e",
   "metadata": {},
   "outputs": [],
   "source": [
    "# Press shift-enter to execute a Jupyter notebook cell\n",
    "# Import the Python Libraries used in the tutorial\n",
    "import numpy as np\n",
    "import scipy as sp\n",
    "import pandas as pd\n",
    "import matplotlib.pyplot as plt\n",
    "import seaborn as sns\n",
    "\n",
    "# Enable inline plotting\n",
    "%matplotlib inline"
   ]
  },
  {
   "cell_type": "code",
   "execution_count": 79,
   "id": "832d2805",
   "metadata": {},
   "outputs": [
    {
     "data": {
      "text/html": [
       "<div>\n",
       "<style scoped>\n",
       "    .dataframe tbody tr th:only-of-type {\n",
       "        vertical-align: middle;\n",
       "    }\n",
       "\n",
       "    .dataframe tbody tr th {\n",
       "        vertical-align: top;\n",
       "    }\n",
       "\n",
       "    .dataframe thead th {\n",
       "        text-align: right;\n",
       "    }\n",
       "</style>\n",
       "<table border=\"1\" class=\"dataframe\">\n",
       "  <thead>\n",
       "    <tr style=\"text-align: right;\">\n",
       "      <th></th>\n",
       "      <th>rank</th>\n",
       "      <th>discipline</th>\n",
       "      <th>phd</th>\n",
       "      <th>service</th>\n",
       "      <th>sex</th>\n",
       "      <th>salary</th>\n",
       "    </tr>\n",
       "  </thead>\n",
       "  <tbody>\n",
       "    <tr>\n",
       "      <th>0</th>\n",
       "      <td>Prof</td>\n",
       "      <td>B</td>\n",
       "      <td>56</td>\n",
       "      <td>49</td>\n",
       "      <td>Male</td>\n",
       "      <td>186960</td>\n",
       "    </tr>\n",
       "    <tr>\n",
       "      <th>1</th>\n",
       "      <td>Prof</td>\n",
       "      <td>A</td>\n",
       "      <td>12</td>\n",
       "      <td>6</td>\n",
       "      <td>Male</td>\n",
       "      <td>93000</td>\n",
       "    </tr>\n",
       "    <tr>\n",
       "      <th>2</th>\n",
       "      <td>Prof</td>\n",
       "      <td>A</td>\n",
       "      <td>23</td>\n",
       "      <td>20</td>\n",
       "      <td>Male</td>\n",
       "      <td>110515</td>\n",
       "    </tr>\n",
       "    <tr>\n",
       "      <th>3</th>\n",
       "      <td>Prof</td>\n",
       "      <td>A</td>\n",
       "      <td>40</td>\n",
       "      <td>31</td>\n",
       "      <td>Male</td>\n",
       "      <td>131205</td>\n",
       "    </tr>\n",
       "    <tr>\n",
       "      <th>4</th>\n",
       "      <td>Prof</td>\n",
       "      <td>B</td>\n",
       "      <td>20</td>\n",
       "      <td>18</td>\n",
       "      <td>Male</td>\n",
       "      <td>104800</td>\n",
       "    </tr>\n",
       "    <tr>\n",
       "      <th>5</th>\n",
       "      <td>Prof</td>\n",
       "      <td>A</td>\n",
       "      <td>20</td>\n",
       "      <td>20</td>\n",
       "      <td>Male</td>\n",
       "      <td>122400</td>\n",
       "    </tr>\n",
       "    <tr>\n",
       "      <th>6</th>\n",
       "      <td>AssocProf</td>\n",
       "      <td>A</td>\n",
       "      <td>20</td>\n",
       "      <td>17</td>\n",
       "      <td>Male</td>\n",
       "      <td>81285</td>\n",
       "    </tr>\n",
       "    <tr>\n",
       "      <th>7</th>\n",
       "      <td>Prof</td>\n",
       "      <td>A</td>\n",
       "      <td>18</td>\n",
       "      <td>18</td>\n",
       "      <td>Male</td>\n",
       "      <td>126300</td>\n",
       "    </tr>\n",
       "    <tr>\n",
       "      <th>8</th>\n",
       "      <td>Prof</td>\n",
       "      <td>A</td>\n",
       "      <td>29</td>\n",
       "      <td>19</td>\n",
       "      <td>Male</td>\n",
       "      <td>94350</td>\n",
       "    </tr>\n",
       "    <tr>\n",
       "      <th>9</th>\n",
       "      <td>Prof</td>\n",
       "      <td>A</td>\n",
       "      <td>51</td>\n",
       "      <td>51</td>\n",
       "      <td>Male</td>\n",
       "      <td>57800</td>\n",
       "    </tr>\n",
       "  </tbody>\n",
       "</table>\n",
       "</div>"
      ],
      "text/plain": [
       "        rank discipline  phd  service   sex  salary\n",
       "0       Prof          B   56       49  Male  186960\n",
       "1       Prof          A   12        6  Male   93000\n",
       "2       Prof          A   23       20  Male  110515\n",
       "3       Prof          A   40       31  Male  131205\n",
       "4       Prof          B   20       18  Male  104800\n",
       "5       Prof          A   20       20  Male  122400\n",
       "6  AssocProf          A   20       17  Male   81285\n",
       "7       Prof          A   18       18  Male  126300\n",
       "8       Prof          A   29       19  Male   94350\n",
       "9       Prof          A   51       51  Male   57800"
      ]
     },
     "execution_count": 79,
     "metadata": {},
     "output_type": "execute_result"
    }
   ],
   "source": [
    "# Read a csv file into Pandas Dataframe\n",
    "salaries = pd.read_csv('C:/Users/hp/Downloads/salaries.csv')\n",
    "\n",
    "# Display the first 10 records\n",
    "salaries.head(10)"
   ]
  },
  {
   "cell_type": "markdown",
   "id": "8c31bac2",
   "metadata": {},
   "source": [
    "# Exercise - Working with a single column"
   ]
  },
  {
   "cell_type": "code",
   "execution_count": 13,
   "id": "0aa8b4d0",
   "metadata": {},
   "outputs": [
    {
     "data": {
      "text/html": [
       "<div>\n",
       "<style scoped>\n",
       "    .dataframe tbody tr th:only-of-type {\n",
       "        vertical-align: middle;\n",
       "    }\n",
       "\n",
       "    .dataframe tbody tr th {\n",
       "        vertical-align: top;\n",
       "    }\n",
       "\n",
       "    .dataframe thead th {\n",
       "        text-align: right;\n",
       "    }\n",
       "</style>\n",
       "<table border=\"1\" class=\"dataframe\">\n",
       "  <thead>\n",
       "    <tr style=\"text-align: right;\">\n",
       "      <th></th>\n",
       "      <th>salary</th>\n",
       "    </tr>\n",
       "  </thead>\n",
       "  <tbody>\n",
       "    <tr>\n",
       "      <th>count</th>\n",
       "      <td>78.000000</td>\n",
       "    </tr>\n",
       "    <tr>\n",
       "      <th>mean</th>\n",
       "      <td>108023.782051</td>\n",
       "    </tr>\n",
       "    <tr>\n",
       "      <th>std</th>\n",
       "      <td>28293.661022</td>\n",
       "    </tr>\n",
       "    <tr>\n",
       "      <th>min</th>\n",
       "      <td>57800.000000</td>\n",
       "    </tr>\n",
       "    <tr>\n",
       "      <th>25%</th>\n",
       "      <td>88612.500000</td>\n",
       "    </tr>\n",
       "    <tr>\n",
       "      <th>50%</th>\n",
       "      <td>104671.000000</td>\n",
       "    </tr>\n",
       "    <tr>\n",
       "      <th>75%</th>\n",
       "      <td>126774.750000</td>\n",
       "    </tr>\n",
       "    <tr>\n",
       "      <th>max</th>\n",
       "      <td>186960.000000</td>\n",
       "    </tr>\n",
       "  </tbody>\n",
       "</table>\n",
       "</div>"
      ],
      "text/plain": [
       "              salary\n",
       "count      78.000000\n",
       "mean   108023.782051\n",
       "std     28293.661022\n",
       "min     57800.000000\n",
       "25%     88612.500000\n",
       "50%    104671.000000\n",
       "75%    126774.750000\n",
       "max    186960.000000"
      ]
     },
     "execution_count": 13,
     "metadata": {},
     "output_type": "execute_result"
    }
   ],
   "source": [
    "# Calculate the descriptive statistics for only the salary column in df_new\n",
    "salaries = pd.read_csv('C:/Users/hp/Downloads/salaries.csv')\n",
    "salaries[['salary']].describe()"
   ]
  },
  {
   "cell_type": "code",
   "execution_count": 22,
   "id": "d37e5c6f",
   "metadata": {},
   "outputs": [
    {
     "name": "stdout",
     "output_type": "stream",
     "text": [
      "        salary\n",
      "salary        \n",
      "57800        1\n",
      "62884        1\n",
      "63100        1\n",
      "71065        1\n",
      "72500        2\n",
      "...        ...\n",
      "155750       1\n",
      "155865       1\n",
      "161101       1\n",
      "162200       1\n",
      "186960       1\n",
      "\n",
      "[73 rows x 1 columns]\n"
     ]
    }
   ],
   "source": [
    "# Get a count for each of the values in the salary_k column in df_new\n",
    "salary_count = salaries.groupby('salary').aggregate({'salary':'count'})\n",
    "print(salary_count)"
   ]
  },
  {
   "cell_type": "code",
   "execution_count": 27,
   "id": "7c698b1d",
   "metadata": {},
   "outputs": [
    {
     "name": "stdout",
     "output_type": "stream",
     "text": [
      "salary    108023.782051\n",
      "dtype: float64\n"
     ]
    }
   ],
   "source": [
    "# Calculate the average (mean) salary_k in df_new\n",
    "mean_salary = salaries[['salary']].mean()\n",
    "print(mean_salary)"
   ]
  },
  {
   "cell_type": "markdown",
   "id": "c98bd644",
   "metadata": {},
   "source": [
    "# Exercise - Grouping data"
   ]
  },
  {
   "cell_type": "code",
   "execution_count": 31,
   "id": "5dc04d7c",
   "metadata": {},
   "outputs": [
    {
     "name": "stdout",
     "output_type": "stream",
     "text": [
      "                             salary    service\n",
      "rank      discipline                          \n",
      "AssocProf A            73959.800000  15.800000\n",
      "          B           102927.750000   8.500000\n",
      "AsstProf  A            74450.000000   2.125000\n",
      "          B            86390.272727   2.272727\n",
      "Prof      A           111935.695652  20.434783\n",
      "          B           135313.913043  22.391304\n"
     ]
    }
   ],
   "source": [
    "# Group data by the rank and discipline and find the average yearsOfService and salary_k for each group. \n",
    "grouped_data = salaries.groupby(['rank','discipline']).aggregate({'salary':'mean','service':'mean'})\n",
    "print(grouped_data)"
   ]
  },
  {
   "cell_type": "markdown",
   "id": "07b855d3",
   "metadata": {},
   "source": [
    "# Exercise - Filtering data"
   ]
  },
  {
   "cell_type": "code",
   "execution_count": 48,
   "id": "b9b0450a",
   "metadata": {},
   "outputs": [
    {
     "name": "stdout",
     "output_type": "stream",
     "text": [
      "98331.11111111111\n"
     ]
    }
   ],
   "source": [
    "# Using filtering, find the mean value of the salary for the discipline A\n",
    "disciplineA = salaries[salaries['discipline'] == 'A']\n",
    "mean_salary = disciplineA['salary'].mean()\n",
    "print(mean_salary)"
   ]
  },
  {
   "cell_type": "code",
   "execution_count": 65,
   "id": "a871458c",
   "metadata": {},
   "outputs": [
    {
     "name": "stdout",
     "output_type": "stream",
     "text": [
      "=== Determine how many female and male professors earned more than 100K ===>\n",
      "        salary\n",
      "sex           \n",
      "Female      21\n",
      "Male        25\n",
      "\n",
      "\n",
      "=== Filter for professors with salaries over 100K ===>\n",
      "    rank discipline  phd  service     sex  salary\n",
      "0   Prof          B   56       49    Male  186960\n",
      "2   Prof          A   23       20    Male  110515\n",
      "3   Prof          A   40       31    Male  131205\n",
      "4   Prof          B   20       18    Male  104800\n",
      "5   Prof          A   20       20    Male  122400\n",
      "7   Prof          A   18       18    Male  126300\n",
      "10  Prof          B   39       33    Male  128250\n",
      "11  Prof          B   23       23    Male  134778\n",
      "13  Prof          B   35       33    Male  162200\n",
      "14  Prof          B   25       19    Male  153750\n",
      "15  Prof          B   17        3    Male  150480\n",
      "18  Prof          A   19        7    Male  107300\n",
      "19  Prof          A   29       27    Male  150500\n",
      "21  Prof          A   33       30    Male  103106\n",
      "26  Prof          A   38       19    Male  148750\n",
      "27  Prof          A   45       43    Male  155865\n",
      "29  Prof          B   21       20    Male  123683\n",
      "31  Prof          B   22       21    Male  155750\n",
      "32  Prof          A   27       19    Male  103275\n",
      "33  Prof          B   18       18    Male  120000\n",
      "35  Prof          B   28       23    Male  126933\n",
      "36  Prof          B   45       45    Male  146856\n",
      "37  Prof          A   20        8    Male  102000\n",
      "39  Prof          B   18       18  Female  129000\n",
      "40  Prof          A   39       36  Female  137000\n",
      "44  Prof          B   23       19  Female  151768\n",
      "45  Prof          B   25       25  Female  140096\n",
      "48  Prof          B   17       17  Female  111512\n",
      "49  Prof          B   17       18  Female  122960\n",
      "51  Prof          B   20       14  Female  127512\n",
      "52  Prof          A   12        0  Female  105000\n",
      "58  Prof          B   36       26  Female  144651\n",
      "65  Prof          A   36       19  Female  117555\n",
      "69  Prof          A   28        7  Female  116450\n",
      "72  Prof          B   24       15  Female  161101\n",
      "73  Prof          B   18       10  Female  105450\n",
      "75  Prof          B   17       17  Female  124312\n",
      "76  Prof          A   28       14  Female  109954\n",
      "77  Prof          A   23       15  Female  109646\n",
      "\n",
      "\n",
      "=== Group by gender and count the number of professors in each group ===>\n",
      "        salary\n",
      "sex           \n",
      "Female      39\n",
      "Male        39\n"
     ]
    }
   ],
   "source": [
    "# Challenge:\n",
    "# Determine how many female and male professors earned more than 100K\n",
    "print(\"=== Determine how many female and male professors earned more than 100K ===>\")\n",
    "salaries_more_than_100K = salaries[salaries['salary'] > 100000]\n",
    "group_by_sex_salaries_more_than_100K = salaries_more_than_100K.groupby(['sex']).aggregate({'salary':'count'})\n",
    "print(group_by_sex_salaries_more_than_100K)\n",
    "\n",
    "# Filter for professors with salaries over 100K\n",
    "print(\"\\n\\n=== Filter for professors with salaries over 100K ===>\")\n",
    "professors_over_100k = salaries_more_than_100K[salaries_more_than_100K['rank'] == 'Prof']\n",
    "print(professors_over_100k)\n",
    "\n",
    "# Group by gender and count the number of professors in each group\n",
    "print(\"\\n\\n=== Group by gender and count the number of professors in each group ===>\")\n",
    "group_by_sex = salaries.groupby(['sex']).aggregate({'salary':'count'})\n",
    "print(group_by_sex)\n",
    "\n",
    "# Print the results\n"
   ]
  },
  {
   "cell_type": "markdown",
   "id": "8e110b5d",
   "metadata": {},
   "source": [
    "# Exercise - Slicing a dataframe"
   ]
  },
  {
   "cell_type": "code",
   "execution_count": 62,
   "id": "21f3409b",
   "metadata": {},
   "outputs": [
    {
     "name": "stdout",
     "output_type": "stream",
     "text": [
      "         rank discipline  phd  service     sex  salary\n",
      "1        Prof          A   12        6    Male   93000\n",
      "6   AssocProf          A   20       17    Male   81285\n",
      "8        Prof          A   29       19    Male   94350\n",
      "9        Prof          A   51       51    Male   57800\n",
      "12   AsstProf          B    1        0    Male   88000\n",
      "16   AsstProf          B    8        3    Male   75044\n",
      "17   AsstProf          B    4        0    Male   92000\n",
      "20   AsstProf          B    4        4    Male   92000\n",
      "22   AsstProf          A    4        2    Male   73000\n",
      "23   AsstProf          A    2        0    Male   85000\n",
      "24       Prof          A   30       23    Male   91100\n",
      "25       Prof          B   35       31    Male   99418\n",
      "28   AsstProf          B    7        2    Male   91300\n",
      "38   AsstProf          B    4        3    Male   91000\n",
      "41  AssocProf          A   13        8  Female   74830\n",
      "42   AsstProf          B    4        2  Female   80225\n",
      "43   AsstProf          B    5        0  Female   77000\n",
      "46   AsstProf          B   11        3  Female   74692\n",
      "50   AsstProf          B   10        5  Female   97032\n",
      "53   AsstProf          A    5        3  Female   73500\n",
      "54  AssocProf          A   25       22  Female   62884\n",
      "55   AsstProf          A    2        0  Female   72500\n",
      "56  AssocProf          A   10        8  Female   77500\n",
      "57   AsstProf          A    3        1  Female   72500\n",
      "60   AsstProf          B    3        3  Female   92000\n",
      "63       Prof          A   29       27  Female   91000\n",
      "64  AssocProf          A   26       24  Female   73300\n",
      "66   AsstProf          A    7        6  Female   63100\n",
      "67       Prof          A   17       11  Female   90450\n",
      "68   AsstProf          A    4        2  Female   77500\n",
      "70   AsstProf          A    8        3  Female   78500\n",
      "71  AssocProf          B   12        9  Female   71065\n"
     ]
    }
   ],
   "source": [
    "#Create a new dataframe where you filter out salaries below 100K from df_new\n",
    "salaries_below_100k = salaries[salaries['salary'] < 100000]\n",
    "print(salaries_below_100k)"
   ]
  },
  {
   "cell_type": "code",
   "execution_count": 77,
   "id": "3821589e",
   "metadata": {},
   "outputs": [
    {
     "name": "stdout",
     "output_type": "stream",
     "text": [
      "   service  salary\n",
      "6       17   81285\n",
      "8       19   94350\n",
      "9       51   57800\n"
     ]
    }
   ],
   "source": [
    "# Extract rows 5:10 and columns ['service', 'salary'] of df_sub100 using the .loc method\n",
    "filtered_rows = salaries_below_100k.loc[5:10].filter(items=['service','salary'])\n",
    "print(filtered_rows)"
   ]
  },
  {
   "cell_type": "code",
   "execution_count": 69,
   "id": "4b2be8fa",
   "metadata": {},
   "outputs": [
    {
     "name": "stdout",
     "output_type": "stream",
     "text": [
      "    service  salary\n",
      "16        3   75044\n",
      "17        0   92000\n",
      "20        4   92000\n",
      "22        2   73000\n",
      "23        0   85000\n"
     ]
    }
   ],
   "source": [
    "# Extract rows 5:10 and columns ['yearsOfService', 'salary_k'] from df_sub100 using the iloc method\n",
    "filtered_rows_salaries_below_100k = salaries_below_100k.iloc[5:10].filter(items=['service','salary'])\n",
    "print(filtered_rows_salaries_below_100k)"
   ]
  },
  {
   "cell_type": "code",
   "execution_count": 73,
   "id": "a681f019",
   "metadata": {},
   "outputs": [
    {
     "name": "stdout",
     "output_type": "stream",
     "text": [
      "    service  salary\n",
      "17        0   92000\n",
      "28        2   91300\n",
      "54       22   62884\n",
      "56        8   77500\n"
     ]
    }
   ],
   "source": [
    "# Extract rows with index values [6, 12, 20, 22] and columns ['yearsOfService','salary_k'] from df_sub100\n",
    "filtered_exact_rows_salaries_below_100k = salaries_below_100k.iloc[[6, 12, 20, 22]].filter(items=['service','salary'])\n",
    "print(filtered_exact_rows_salaries_below_100k)"
   ]
  },
  {
   "cell_type": "markdown",
   "id": "87882377",
   "metadata": {},
   "source": [
    "# Exercise - Sorting"
   ]
  },
  {
   "cell_type": "code",
   "execution_count": 74,
   "id": "9ef70d4b",
   "metadata": {},
   "outputs": [
    {
     "name": "stdout",
     "output_type": "stream",
     "text": [
      "         rank discipline  phd  service     sex  salary\n",
      "9        Prof          A   51       51    Male   57800\n",
      "54  AssocProf          A   25       22  Female   62884\n",
      "66   AsstProf          A    7        6  Female   63100\n",
      "71  AssocProf          B   12        9  Female   71065\n",
      "57   AsstProf          A    3        1  Female   72500\n",
      "..        ...        ...  ...      ...     ...     ...\n",
      "31       Prof          B   22       21    Male  155750\n",
      "27       Prof          A   45       43    Male  155865\n",
      "72       Prof          B   24       15  Female  161101\n",
      "13       Prof          B   35       33    Male  162200\n",
      "0        Prof          B   56       49    Male  186960\n",
      "\n",
      "[78 rows x 6 columns]\n"
     ]
    }
   ],
   "source": [
    "#Sort the data frame df_new by the salary (in descending order)\n",
    "sorted_salary_desc = salaries.sort_values('salary')\n",
    "print(sorted_salary_desc)"
   ]
  },
  {
   "cell_type": "code",
   "execution_count": 78,
   "id": "367f041d",
   "metadata": {},
   "outputs": [
    {
     "name": "stdout",
     "output_type": "stream",
     "text": [
      "         rank discipline  phd  service     sex  salary\n",
      "9        Prof          A   51       51    Male   57800\n",
      "54  AssocProf          A   25       22  Female   62884\n",
      "66   AsstProf          A    7        6  Female   63100\n",
      "71  AssocProf          B   12        9  Female   71065\n",
      "57   AsstProf          A    3        1  Female   72500\n",
      "55   AsstProf          A    2        0  Female   72500\n",
      "22   AsstProf          A    4        2    Male   73000\n",
      "64  AssocProf          A   26       24  Female   73300\n",
      "53   AsstProf          A    5        3  Female   73500\n",
      "46   AsstProf          B   11        3  Female   74692\n"
     ]
    }
   ],
   "source": [
    "#Display the first 10 records of the output\n",
    "print(sorted_salary_desc.head(10))"
   ]
  },
  {
   "cell_type": "markdown",
   "id": "fb49b795",
   "metadata": {},
   "source": [
    "# Missing Values"
   ]
  },
  {
   "cell_type": "code",
   "execution_count": 80,
   "id": "b032a4d4",
   "metadata": {},
   "outputs": [],
   "source": [
    "# Press shift-enter to execute a Jupyter notebook cell\n",
    "# Import the Python Libraries used in the tutorial\n",
    "import numpy as np\n",
    "import scipy as sp\n",
    "import pandas as pd\n",
    "import matplotlib.pyplot as plt\n",
    "import seaborn as sns\n",
    "\n",
    "flights = pd.read_csv('C:/Users/hp/Downloads/flights.csv')\n",
    "\n",
    "# Enable inline plotting\n",
    "%matplotlib inline"
   ]
  },
  {
   "cell_type": "code",
   "execution_count": 129,
   "id": "1770e152",
   "metadata": {},
   "outputs": [
    {
     "data": {
      "text/html": [
       "<div>\n",
       "<style scoped>\n",
       "    .dataframe tbody tr th:only-of-type {\n",
       "        vertical-align: middle;\n",
       "    }\n",
       "\n",
       "    .dataframe tbody tr th {\n",
       "        vertical-align: top;\n",
       "    }\n",
       "\n",
       "    .dataframe thead th {\n",
       "        text-align: right;\n",
       "    }\n",
       "</style>\n",
       "<table border=\"1\" class=\"dataframe\">\n",
       "  <thead>\n",
       "    <tr style=\"text-align: right;\">\n",
       "      <th></th>\n",
       "      <th>year</th>\n",
       "      <th>month</th>\n",
       "      <th>day</th>\n",
       "      <th>dep_time</th>\n",
       "      <th>dep_delay</th>\n",
       "      <th>arr_time</th>\n",
       "      <th>arr_delay</th>\n",
       "      <th>carrier</th>\n",
       "      <th>tailnum</th>\n",
       "      <th>flight</th>\n",
       "      <th>origin</th>\n",
       "      <th>dest</th>\n",
       "      <th>air_time</th>\n",
       "      <th>distance</th>\n",
       "      <th>hour</th>\n",
       "      <th>minute</th>\n",
       "    </tr>\n",
       "  </thead>\n",
       "  <tbody>\n",
       "    <tr>\n",
       "      <th>0</th>\n",
       "      <td>2013</td>\n",
       "      <td>1</td>\n",
       "      <td>1</td>\n",
       "      <td>517.0</td>\n",
       "      <td>2.0</td>\n",
       "      <td>830.0</td>\n",
       "      <td>11.0</td>\n",
       "      <td>UA</td>\n",
       "      <td>N14228</td>\n",
       "      <td>1545</td>\n",
       "      <td>EWR</td>\n",
       "      <td>IAH</td>\n",
       "      <td>227.0</td>\n",
       "      <td>1400</td>\n",
       "      <td>5.0</td>\n",
       "      <td>17.0</td>\n",
       "    </tr>\n",
       "    <tr>\n",
       "      <th>1</th>\n",
       "      <td>2013</td>\n",
       "      <td>1</td>\n",
       "      <td>1</td>\n",
       "      <td>533.0</td>\n",
       "      <td>4.0</td>\n",
       "      <td>850.0</td>\n",
       "      <td>20.0</td>\n",
       "      <td>UA</td>\n",
       "      <td>N24211</td>\n",
       "      <td>1714</td>\n",
       "      <td>LGA</td>\n",
       "      <td>IAH</td>\n",
       "      <td>227.0</td>\n",
       "      <td>1416</td>\n",
       "      <td>5.0</td>\n",
       "      <td>33.0</td>\n",
       "    </tr>\n",
       "    <tr>\n",
       "      <th>2</th>\n",
       "      <td>2013</td>\n",
       "      <td>1</td>\n",
       "      <td>1</td>\n",
       "      <td>542.0</td>\n",
       "      <td>2.0</td>\n",
       "      <td>923.0</td>\n",
       "      <td>33.0</td>\n",
       "      <td>AA</td>\n",
       "      <td>N619AA</td>\n",
       "      <td>1141</td>\n",
       "      <td>JFK</td>\n",
       "      <td>MIA</td>\n",
       "      <td>160.0</td>\n",
       "      <td>1089</td>\n",
       "      <td>5.0</td>\n",
       "      <td>42.0</td>\n",
       "    </tr>\n",
       "    <tr>\n",
       "      <th>3</th>\n",
       "      <td>2013</td>\n",
       "      <td>1</td>\n",
       "      <td>1</td>\n",
       "      <td>554.0</td>\n",
       "      <td>-6.0</td>\n",
       "      <td>812.0</td>\n",
       "      <td>-25.0</td>\n",
       "      <td>DL</td>\n",
       "      <td>N668DN</td>\n",
       "      <td>461</td>\n",
       "      <td>LGA</td>\n",
       "      <td>ATL</td>\n",
       "      <td>116.0</td>\n",
       "      <td>762</td>\n",
       "      <td>5.0</td>\n",
       "      <td>54.0</td>\n",
       "    </tr>\n",
       "    <tr>\n",
       "      <th>4</th>\n",
       "      <td>2013</td>\n",
       "      <td>1</td>\n",
       "      <td>1</td>\n",
       "      <td>554.0</td>\n",
       "      <td>-4.0</td>\n",
       "      <td>740.0</td>\n",
       "      <td>12.0</td>\n",
       "      <td>UA</td>\n",
       "      <td>N39463</td>\n",
       "      <td>1696</td>\n",
       "      <td>EWR</td>\n",
       "      <td>ORD</td>\n",
       "      <td>150.0</td>\n",
       "      <td>719</td>\n",
       "      <td>5.0</td>\n",
       "      <td>54.0</td>\n",
       "    </tr>\n",
       "  </tbody>\n",
       "</table>\n",
       "</div>"
      ],
      "text/plain": [
       "   year  month  day  dep_time  dep_delay  arr_time  arr_delay carrier tailnum  \\\n",
       "0  2013      1    1     517.0        2.0     830.0       11.0      UA  N14228   \n",
       "1  2013      1    1     533.0        4.0     850.0       20.0      UA  N24211   \n",
       "2  2013      1    1     542.0        2.0     923.0       33.0      AA  N619AA   \n",
       "3  2013      1    1     554.0       -6.0     812.0      -25.0      DL  N668DN   \n",
       "4  2013      1    1     554.0       -4.0     740.0       12.0      UA  N39463   \n",
       "\n",
       "   flight origin dest  air_time  distance  hour  minute  \n",
       "0    1545    EWR  IAH     227.0      1400   5.0    17.0  \n",
       "1    1714    LGA  IAH     227.0      1416   5.0    33.0  \n",
       "2    1141    JFK  MIA     160.0      1089   5.0    42.0  \n",
       "3     461    LGA  ATL     116.0       762   5.0    54.0  \n",
       "4    1696    EWR  ORD     150.0       719   5.0    54.0  "
      ]
     },
     "execution_count": 129,
     "metadata": {},
     "output_type": "execute_result"
    }
   ],
   "source": [
    "# Read a dataset with missing values\n"
   ]
  },
  {
   "cell_type": "code",
   "execution_count": 83,
   "id": "165fc6ba",
   "metadata": {},
   "outputs": [
    {
     "name": "stdout",
     "output_type": "stream",
     "text": [
      "dep_delay    2336\n",
      "arr_delay    2827\n",
      "dtype: int64\n"
     ]
    }
   ],
   "source": [
    "# Count how many missing pieces of data there are in the dep_delay and arr_delay columns\n",
    "missing_count = flights.isna().sum().filter(items=['dep_delay','arr_delay'])\n",
    "print(missing_count)"
   ]
  },
  {
   "cell_type": "code",
   "execution_count": 137,
   "id": "e837a1f5",
   "metadata": {},
   "outputs": [
    {
     "data": {
      "text/plain": [
       "dep_delay    2336\n",
       "arr_delay    2827\n",
       "dtype: int64"
      ]
     },
     "execution_count": 137,
     "metadata": {},
     "output_type": "execute_result"
    }
   ],
   "source": []
  },
  {
   "cell_type": "markdown",
   "id": "d4b8710f",
   "metadata": {},
   "source": [
    "# Exercise 7 Graphing data"
   ]
  },
  {
   "cell_type": "code",
   "execution_count": 138,
   "id": "a0ba7f25",
   "metadata": {},
   "outputs": [],
   "source": [
    "# Use the seaborn package to explore the dependency of arr_delay on dep_delay \n",
    "# in the flights dataset. You can use a scatterplot or regplot using flight."
   ]
  },
  {
   "cell_type": "code",
   "execution_count": 139,
   "id": "2b1d6bdc",
   "metadata": {},
   "outputs": [],
   "source": [
    "# Show graphs within the Python notebook\n",
    "%matplotlib inline"
   ]
  },
  {
   "cell_type": "code",
   "execution_count": 84,
   "id": "057aaa7e",
   "metadata": {},
   "outputs": [
    {
     "data": {
      "text/plain": [
       "<AxesSubplot:xlabel='arr_delay', ylabel='dep_delay'>"
      ]
     },
     "execution_count": 84,
     "metadata": {},
     "output_type": "execute_result"
    },
    {
     "data": {
      "image/png": "[encoded data removed]",
      "text/plain": [
       "<Figure size 640x480 with 1 Axes>"
      ]
     },
     "metadata": {},
     "output_type": "display_data"
    }
   ],
   "source": [
    "flights.plot.scatter(x='arr_delay',y='dep_delay')"
   ]
  },
  {
   "cell_type": "code",
   "execution_count": 145,
   "id": "ec3d996d",
   "metadata": {},
   "outputs": [
    {
     "data": {
      "text/plain": [
       "Text(0.5, 1.0, 'arr_delay vs. dep_delay')"
      ]
     },
     "execution_count": 145,
     "metadata": {},
     "output_type": "execute_result"
    },
    {
     "data": {
      "image/png": "[encoded data removed]",
      "text/plain": [
       "<Figure size 640x480 with 1 Axes>"
      ]
     },
     "metadata": {},
     "output_type": "display_data"
    }
   ],
   "source": []
  },
  {
   "cell_type": "code",
   "execution_count": null,
   "id": "cb4c9926",
   "metadata": {},
   "outputs": [],
   "source": []
  }
 ],
 "metadata": {
  "kernelspec": {
   "display_name": "Python 3 (ipykernel)",
   "language": "python",
   "name": "python3"
  },
  "language_info": {
   "codemirror_mode": {
    "name": "ipython",
    "version": 3
   },
   "file_extension": ".py",
   "mimetype": "text/x-python",
   "name": "python",
   "nbconvert_exporter": "python",
   "pygments_lexer": "ipython3",
   "version": "3.9.13"
  }
 },
 "nbformat": 4,
 "nbformat_minor": 5
}
