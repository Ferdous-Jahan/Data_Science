{
 "cells": [
  {
   "cell_type": "markdown",
   "id": "3dd6bda1",
   "metadata": {},
   "source": [
    "# Build a Neural Netwrok for multi-classification of IRIS types"
   ]
  },
  {
   "cell_type": "code",
   "execution_count": 3,
   "id": "935fdd3a",
   "metadata": {},
   "outputs": [],
   "source": [
    "# for reading data\n",
    "import pandas as pd\n",
    "import numpy as np\n",
    "from sklearn.preprocessing import LabelEncoder\n",
    "from keras.wrappers.scikit_learn import KerasClassifier\n",
    "from keras.utils import np_utils\n",
    "\n",
    "# for modeling\n",
    "from keras.models import Sequential\n",
    "from keras.layers import Dense, Dropout\n",
    "from keras.callbacks import EarlyStopping"
   ]
  },
  {
   "cell_type": "markdown",
   "id": "269c8287",
   "metadata": {},
   "source": [
    "# Load our data\n",
    "- We use Iris Species as the example dataset\n",
    "\n",
    "- Read the dataset\n",
    "- Shuffle the dataset"
   ]
  },
  {
   "cell_type": "code",
   "execution_count": 5,
   "id": "6bbbdf64",
   "metadata": {},
   "outputs": [
    {
     "name": "stdout",
     "output_type": "stream",
     "text": [
      "   Id  SepalLengthCm  SepalWidthCm  PetalLengthCm  PetalWidthCm      Species\n",
      "0   1            5.1           3.5            1.4           0.2  Iris-setosa\n",
      "1   2            4.9           3.0            1.4           0.2  Iris-setosa\n",
      "2   3            4.7           3.2            1.3           0.2  Iris-setosa\n",
      "3   4            4.6           3.1            1.5           0.2  Iris-setosa\n",
      "4   5            5.0           3.6            1.4           0.2  Iris-setosa\n",
      "\n",
      "\n",
      "after suffle ===>\n",
      "   Id  SepalLengthCm  SepalWidthCm  PetalLengthCm  PetalWidthCm  \\\n",
      "0   4            4.6           3.1            1.5           0.2   \n",
      "1  20            5.1           3.8            1.5           0.3   \n",
      "2  25            4.8           3.4            1.9           0.2   \n",
      "3  99            5.1           2.5            3.0           1.1   \n",
      "4  14            4.3           3.0            1.1           0.1   \n",
      "\n",
      "           Species  \n",
      "0      Iris-setosa  \n",
      "1      Iris-setosa  \n",
      "2      Iris-setosa  \n",
      "3  Iris-versicolor  \n",
      "4      Iris-setosa  \n"
     ]
    }
   ],
   "source": [
    "# read in the data\n",
    "iris_data = pd.read_csv(\"C:/Users/hp/Downloads/Iris.csv\")\n",
    "print(iris_data.head(5))\n",
    "\n",
    "# shuffle the dataset to prevent the model from learning any patterns that might exist in the order of the data.! \n",
    "iris_data = iris_data.sample(frac=1).reset_index(drop=True)\n",
    "print(\"\\n\\nafter suffle ===>\")\n",
    "print(iris_data.head(5))"
   ]
  },
  {
   "cell_type": "markdown",
   "id": "23f3247c",
   "metadata": {},
   "source": [
    "# Prepare data for modeling\n",
    "- Split the data(X,y)\n",
    "- Convert to NumPy array\n",
    "- Encode class values as integers\n"
   ]
  },
  {
   "cell_type": "code",
   "execution_count": 7,
   "id": "27fec073",
   "metadata": {},
   "outputs": [
    {
     "name": "stdout",
     "output_type": "stream",
     "text": [
      "(150, 4)\n",
      "(150,)\n"
     ]
    }
   ],
   "source": [
    "# split into X and Y\n",
    "Y = iris_data['Species']\n",
    "X = iris_data.drop(['Species', 'Id'], axis=1)\n",
    "\n",
    "print(X.shape)\n",
    "print(Y.shape)\n",
    "\n",
    "# convert X to numpy arrays\n",
    "X = np.array(X)"
   ]
  },
  {
   "cell_type": "code",
   "execution_count": 36,
   "id": "eefa44db",
   "metadata": {},
   "outputs": [
    {
     "name": "stdout",
     "output_type": "stream",
     "text": [
      "0      0\n",
      "1      0\n",
      "2      0\n",
      "3      1\n",
      "4      0\n",
      "      ..\n",
      "145    1\n",
      "146    0\n",
      "147    2\n",
      "148    0\n",
      "149    2\n",
      "Name: Species, Length: 150, dtype: int64\n",
      "\n",
      "\n",
      "After encoding ===>\n",
      "0      0\n",
      "1      0\n",
      "2      0\n",
      "3      1\n",
      "4      0\n",
      "      ..\n",
      "145    1\n",
      "146    0\n",
      "147    2\n",
      "148    0\n",
      "149    2\n",
      "Name: Species, Length: 150, dtype: int64\n"
     ]
    }
   ],
   "source": [
    "# show Y\n",
    "print(Y)\n",
    "\n",
    "# encode class values as integers\n",
    "Y = Y.replace({'Iris-setosa':0, 'Iris-versicolor': 1, 'Iris-virginica': 2})\n",
    "print('\\n\\nAfter encoding ===>')\n",
    "print(Y)\n",
    "\n",
    "dummy = np_utils.to_categorical(Y)"
   ]
  },
  {
   "cell_type": "markdown",
   "id": "d3c89d4e",
   "metadata": {},
   "source": [
    "# Build, Compile, Fit model\n",
    "- Use the Sequential API to build your model\n",
    "- Specify an optimizer (rmsprop or Adam)\n",
    "- Set a loss function (categorical_crossentropy)\n",
    "- EarlyStopping callbacks to prevent overfitting (patience of 10)\n",
    "- Fit the model (make a new variable called ‘history’ so you can evaluate the learning curves)"
   ]
  },
  {
   "cell_type": "code",
   "execution_count": 37,
   "id": "52607a24",
   "metadata": {},
   "outputs": [
    {
     "name": "stdout",
     "output_type": "stream",
     "text": [
      "Model: \"sequential_5\"\n",
      "_________________________________________________________________\n",
      " Layer (type)                Output Shape              Param #   \n",
      "=================================================================\n",
      " dense_15 (Dense)            (None, 16)                80        \n",
      "                                                                 \n",
      " dense_16 (Dense)            (None, 3)                 51        \n",
      "                                                                 \n",
      "=================================================================\n",
      "Total params: 131\n",
      "Trainable params: 131\n",
      "Non-trainable params: 0\n",
      "_________________________________________________________________\n"
     ]
    }
   ],
   "source": [
    "# build a model with 1 or 2 layers and get summary of the model\n",
    "model = Sequential()\n",
    "model.add(Dense(16, input_shape=(X.shape[1],), activation='relu'))\n",
    "model.add(Dense(3, activation='softmax'))\n",
    "model.summary()\n",
    "\n",
    "# compile the model for multi-class classification\n",
    "model.compile(optimizer='rmsprop', \n",
    "              loss='categorical_crossentropy',\n",
    "              metrics=['accuracy'])"
   ]
  },
  {
   "cell_type": "code",
   "execution_count": 38,
   "id": "ee9aead3",
   "metadata": {},
   "outputs": [
    {
     "name": "stdout",
     "output_type": "stream",
     "text": [
      "Epoch 1/10\n",
      "12/12 [==============================] - 1s 17ms/step - loss: 1.4989 - accuracy: 0.3250 - val_loss: 1.2457 - val_accuracy: 0.3667\n",
      "Epoch 2/10\n",
      "12/12 [==============================] - 0s 4ms/step - loss: 1.3153 - accuracy: 0.3250 - val_loss: 1.1344 - val_accuracy: 0.3667\n",
      "Epoch 3/10\n",
      "12/12 [==============================] - 0s 4ms/step - loss: 1.1959 - accuracy: 0.3250 - val_loss: 1.0531 - val_accuracy: 0.3667\n",
      "Epoch 4/10\n",
      "12/12 [==============================] - 0s 3ms/step - loss: 1.1027 - accuracy: 0.3250 - val_loss: 0.9874 - val_accuracy: 0.3667\n",
      "Epoch 5/10\n",
      "12/12 [==============================] - 0s 4ms/step - loss: 1.0217 - accuracy: 0.3250 - val_loss: 0.9248 - val_accuracy: 0.3667\n",
      "Epoch 6/10\n",
      "12/12 [==============================] - 0s 4ms/step - loss: 0.9490 - accuracy: 0.3417 - val_loss: 0.8811 - val_accuracy: 0.4333\n",
      "Epoch 7/10\n",
      "12/12 [==============================] - 0s 4ms/step - loss: 0.8997 - accuracy: 0.5083 - val_loss: 0.8466 - val_accuracy: 0.7333\n",
      "Epoch 8/10\n",
      "12/12 [==============================] - 0s 4ms/step - loss: 0.8629 - accuracy: 0.6417 - val_loss: 0.8217 - val_accuracy: 0.7667\n",
      "Epoch 9/10\n",
      "12/12 [==============================] - 0s 4ms/step - loss: 0.8331 - accuracy: 0.6333 - val_loss: 0.7971 - val_accuracy: 0.7667\n",
      "Epoch 10/10\n",
      "12/12 [==============================] - 0s 5ms/step - loss: 0.8092 - accuracy: 0.6500 - val_loss: 0.7792 - val_accuracy: 0.7667\n"
     ]
    }
   ],
   "source": [
    "import keras\n",
    "from keras.callbacks import EarlyStopping\n",
    "\n",
    "# early stopping callback\n",
    "# This callback will stop the training when there is no improvement in  \n",
    "# the validation loss for 10 consecutive epochs.  \n",
    "es = EarlyStopping(monitor='val_loss', \n",
    "                                   mode='auto',\n",
    "                                   patience=10,\n",
    "                                   restore_best_weights=True)\n",
    "\n",
    "# now we just update our model fit call with 80/20 split\n",
    "history = model.fit(X,\n",
    "                    dummy,\n",
    "                    callbacks=[es],\n",
    "                    epochs=10,\n",
    "                    batch_size=10,\n",
    "                    validation_split=0.2,\n",
    "                    shuffle=True,\n",
    "                    verbose=1)"
   ]
  },
  {
   "cell_type": "markdown",
   "id": "b828f67b",
   "metadata": {},
   "source": [
    "# Evaluate the Model\n",
    "- Learning curves (Loss)\n",
    "- Learning curves (Accuracy)\n",
    "- Confusion matrix"
   ]
  },
  {
   "cell_type": "code",
   "execution_count": 39,
   "id": "a84c2d3e",
   "metadata": {},
   "outputs": [
    {
     "data": {
      "image/png": "[encoded data removed]",
      "text/plain": [
       "<Figure size 640x480 with 1 Axes>"
      ]
     },
     "metadata": {},
     "output_type": "display_data"
    }
   ],
   "source": [
    "import matplotlib.pyplot as plt\n",
    "\n",
    "history_dict = history.history\n",
    "\n",
    "# learning curve\n",
    "# accuracy\n",
    "acc = history_dict['accuracy']\n",
    "val_acc = history_dict['val_accuracy']\n",
    "\n",
    "# loss\n",
    "loss_values = history_dict['loss']\n",
    "val_loss_values = history_dict['val_loss']\n",
    "\n",
    "# range of X (no. of epochs)\n",
    "epochs = range(1, len(acc) + 1)\n",
    "\n",
    "# plot training and validation accuracy\n",
    "# \"r\" is for \"solid red line\"\n",
    "# b is for \"solid blue line\"\n",
    "plt.plot(epochs, acc, 'b', label='Training accuracy')\n",
    "plt.plot(epochs, val_acc, 'r', label='Validation accuracy')\n",
    "plt.title('Training and validation accuracy')\n",
    "plt.xlabel('Epochs')\n",
    "plt.ylabel('Accuracy')\n",
    "plt.legend()\n",
    "plt.show()\n"
   ]
  },
  {
   "cell_type": "code",
   "execution_count": 43,
   "id": "0fb58819",
   "metadata": {},
   "outputs": [
    {
     "name": "stdout",
     "output_type": "stream",
     "text": [
      "5/5 [==============================] - 0s 555us/step\n",
      "5/5 [==============================] - 0s 1ms/step\n",
      "5/5 [==============================] - 0s 1ms/step\n"
     ]
    }
   ],
   "source": [
    "from sklearn.metrics import confusion_matrix\n",
    "from sklearn.metrics import classification_report\n",
    "\n",
    "#see how the model did!\n",
    "model.predict(X)\n",
    "np.round(model.predict(X),0)\n",
    "Y\n",
    "\n",
    "preds = np.round(model.predict(X),0)\n",
    "\n",
    "#print(confusion_matrix(Y, preds))"
   ]
  },
  {
   "cell_type": "code",
   "execution_count": 45,
   "id": "662cdc8c",
   "metadata": {},
   "outputs": [
    {
     "name": "stdout",
     "output_type": "stream",
     "text": [
      "              precision    recall  f1-score   support\n",
      "\n",
      "           0       0.00      0.00      0.00        50\n",
      "           1       0.00      0.00      0.00        50\n",
      "           2       0.96      0.90      0.93        50\n",
      "\n",
      "   micro avg       0.96      0.30      0.46       150\n",
      "   macro avg       0.32      0.30      0.31       150\n",
      "weighted avg       0.32      0.30      0.31       150\n",
      " samples avg       0.30      0.30      0.30       150\n",
      "\n"
     ]
    },
    {
     "name": "stderr",
     "output_type": "stream",
     "text": [
      "C:\\Users\\hp\\anaconda3\\lib\\site-packages\\sklearn\\metrics\\_classification.py:1318: UndefinedMetricWarning: Precision and F-score are ill-defined and being set to 0.0 in labels with no predicted samples. Use `zero_division` parameter to control this behavior.\n",
      "  _warn_prf(average, modifier, msg_start, len(result))\n",
      "C:\\Users\\hp\\anaconda3\\lib\\site-packages\\sklearn\\metrics\\_classification.py:1318: UndefinedMetricWarning: Precision and F-score are ill-defined and being set to 0.0 in samples with no predicted labels. Use `zero_division` parameter to control this behavior.\n",
      "  _warn_prf(average, modifier, msg_start, len(result))\n"
     ]
    }
   ],
   "source": [
    "# more detail on how well things were predicted\n",
    "print(classification_report(dummy, preds))"
   ]
  },
  {
   "cell_type": "code",
   "execution_count": null,
   "id": "466c37de",
   "metadata": {},
   "outputs": [],
   "source": []
  }
 ],
 "metadata": {
  "kernelspec": {
   "display_name": "Python 3 (ipykernel)",
   "language": "python",
   "name": "python3"
  },
  "language_info": {
   "codemirror_mode": {
    "name": "ipython",
    "version": 3
   },
   "file_extension": ".py",
   "mimetype": "text/x-python",
   "name": "python",
   "nbconvert_exporter": "python",
   "pygments_lexer": "ipython3",
   "version": "3.9.13"
  }
 },
 "nbformat": 4,
 "nbformat_minor": 5
}
