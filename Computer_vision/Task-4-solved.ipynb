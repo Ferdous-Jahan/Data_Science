{
 "cells": [
  {
   "cell_type": "code",
   "execution_count": 12,
   "metadata": {},
   "outputs": [],
   "source": [
    "#Import libraries\n",
    "\n",
    "import numpy as np \n",
    "import pandas as pd \n",
    "import tensorflow as tf\n",
    "import matplotlib.pyplot as plt\n",
    "import seaborn as sns\n",
    "from PIL import Image\n",
    "from sklearn.preprocessing import LabelBinarizer\n",
    "from keras.utils import to_categorical\n",
    "from sklearn import preprocessing\n",
    "plt.rcParams['figure.figsize'] = (20,8)\n",
    "\n",
    "from tensorflow.keras.preprocessing.image import ImageDataGenerator, load_img, img_to_array"
   ]
  },
  {
   "cell_type": "code",
   "execution_count": null,
   "metadata": {},
   "outputs": [
    {
     "data": {
      "text/html": [
       "<div>\n",
       "<style scoped>\n",
       "    .dataframe tbody tr th:only-of-type {\n",
       "        vertical-align: middle;\n",
       "    }\n",
       "\n",
       "    .dataframe tbody tr th {\n",
       "        vertical-align: top;\n",
       "    }\n",
       "\n",
       "    .dataframe thead th {\n",
       "        text-align: right;\n",
       "    }\n",
       "</style>\n",
       "<table border=\"1\" class=\"dataframe\">\n",
       "  <thead>\n",
       "    <tr style=\"text-align: right;\">\n",
       "      <th></th>\n",
       "      <th>label</th>\n",
       "      <th>pixel_0</th>\n",
       "      <th>pixel_1</th>\n",
       "      <th>pixel_2</th>\n",
       "      <th>pixel_3</th>\n",
       "      <th>pixel_4</th>\n",
       "      <th>pixel_5</th>\n",
       "      <th>pixel_6</th>\n",
       "      <th>pixel_7</th>\n",
       "      <th>pixel_8</th>\n",
       "      <th>...</th>\n",
       "      <th>pixel_2490</th>\n",
       "      <th>pixel_2491</th>\n",
       "      <th>pixel_2492</th>\n",
       "      <th>pixel_2493</th>\n",
       "      <th>pixel_2494</th>\n",
       "      <th>pixel_2495</th>\n",
       "      <th>pixel_2496</th>\n",
       "      <th>pixel_2497</th>\n",
       "      <th>pixel_2498</th>\n",
       "      <th>pixel_2499</th>\n",
       "    </tr>\n",
       "  </thead>\n",
       "  <tbody>\n",
       "    <tr>\n",
       "      <th>0</th>\n",
       "      <td>Parasitized</td>\n",
       "      <td>0</td>\n",
       "      <td>0</td>\n",
       "      <td>0</td>\n",
       "      <td>0</td>\n",
       "      <td>0</td>\n",
       "      <td>0</td>\n",
       "      <td>0</td>\n",
       "      <td>0</td>\n",
       "      <td>0</td>\n",
       "      <td>...</td>\n",
       "      <td>0</td>\n",
       "      <td>0</td>\n",
       "      <td>0</td>\n",
       "      <td>0</td>\n",
       "      <td>0</td>\n",
       "      <td>0</td>\n",
       "      <td>0</td>\n",
       "      <td>0</td>\n",
       "      <td>0</td>\n",
       "      <td>0</td>\n",
       "    </tr>\n",
       "    <tr>\n",
       "      <th>1</th>\n",
       "      <td>Parasitized</td>\n",
       "      <td>0</td>\n",
       "      <td>0</td>\n",
       "      <td>0</td>\n",
       "      <td>0</td>\n",
       "      <td>0</td>\n",
       "      <td>0</td>\n",
       "      <td>0</td>\n",
       "      <td>0</td>\n",
       "      <td>0</td>\n",
       "      <td>...</td>\n",
       "      <td>0</td>\n",
       "      <td>0</td>\n",
       "      <td>0</td>\n",
       "      <td>0</td>\n",
       "      <td>0</td>\n",
       "      <td>0</td>\n",
       "      <td>0</td>\n",
       "      <td>0</td>\n",
       "      <td>0</td>\n",
       "      <td>0</td>\n",
       "    </tr>\n",
       "    <tr>\n",
       "      <th>2</th>\n",
       "      <td>Parasitized</td>\n",
       "      <td>0</td>\n",
       "      <td>0</td>\n",
       "      <td>0</td>\n",
       "      <td>0</td>\n",
       "      <td>0</td>\n",
       "      <td>0</td>\n",
       "      <td>0</td>\n",
       "      <td>0</td>\n",
       "      <td>0</td>\n",
       "      <td>...</td>\n",
       "      <td>0</td>\n",
       "      <td>0</td>\n",
       "      <td>0</td>\n",
       "      <td>0</td>\n",
       "      <td>0</td>\n",
       "      <td>0</td>\n",
       "      <td>0</td>\n",
       "      <td>0</td>\n",
       "      <td>0</td>\n",
       "      <td>0</td>\n",
       "    </tr>\n",
       "    <tr>\n",
       "      <th>3</th>\n",
       "      <td>Parasitized</td>\n",
       "      <td>0</td>\n",
       "      <td>0</td>\n",
       "      <td>0</td>\n",
       "      <td>0</td>\n",
       "      <td>0</td>\n",
       "      <td>0</td>\n",
       "      <td>0</td>\n",
       "      <td>0</td>\n",
       "      <td>0</td>\n",
       "      <td>...</td>\n",
       "      <td>0</td>\n",
       "      <td>0</td>\n",
       "      <td>0</td>\n",
       "      <td>0</td>\n",
       "      <td>0</td>\n",
       "      <td>0</td>\n",
       "      <td>0</td>\n",
       "      <td>0</td>\n",
       "      <td>0</td>\n",
       "      <td>0</td>\n",
       "    </tr>\n",
       "    <tr>\n",
       "      <th>4</th>\n",
       "      <td>Parasitized</td>\n",
       "      <td>0</td>\n",
       "      <td>0</td>\n",
       "      <td>0</td>\n",
       "      <td>0</td>\n",
       "      <td>0</td>\n",
       "      <td>0</td>\n",
       "      <td>0</td>\n",
       "      <td>0</td>\n",
       "      <td>0</td>\n",
       "      <td>...</td>\n",
       "      <td>0</td>\n",
       "      <td>0</td>\n",
       "      <td>0</td>\n",
       "      <td>0</td>\n",
       "      <td>0</td>\n",
       "      <td>0</td>\n",
       "      <td>0</td>\n",
       "      <td>0</td>\n",
       "      <td>0</td>\n",
       "      <td>0</td>\n",
       "    </tr>\n",
       "  </tbody>\n",
       "</table>\n",
       "<p>5 rows × 2501 columns</p>\n",
       "</div>"
      ],
      "text/plain": [
       "         label  pixel_0  pixel_1  pixel_2  pixel_3  pixel_4  pixel_5  pixel_6  \\\n",
       "0  Parasitized        0        0        0        0        0        0        0   \n",
       "1  Parasitized        0        0        0        0        0        0        0   \n",
       "2  Parasitized        0        0        0        0        0        0        0   \n",
       "3  Parasitized        0        0        0        0        0        0        0   \n",
       "4  Parasitized        0        0        0        0        0        0        0   \n",
       "\n",
       "   pixel_7  pixel_8  ...  pixel_2490  pixel_2491  pixel_2492  pixel_2493  \\\n",
       "0        0        0  ...           0           0           0           0   \n",
       "1        0        0  ...           0           0           0           0   \n",
       "2        0        0  ...           0           0           0           0   \n",
       "3        0        0  ...           0           0           0           0   \n",
       "4        0        0  ...           0           0           0           0   \n",
       "\n",
       "   pixel_2494  pixel_2495  pixel_2496  pixel_2497  pixel_2498  pixel_2499  \n",
       "0           0           0           0           0           0           0  \n",
       "1           0           0           0           0           0           0  \n",
       "2           0           0           0           0           0           0  \n",
       "3           0           0           0           0           0           0  \n",
       "4           0           0           0           0           0           0  \n",
       "\n",
       "[5 rows x 2501 columns]"
      ]
     },
     "execution_count": 5,
     "metadata": {},
     "output_type": "execute_result"
    }
   ],
   "source": [
    "#load images\n",
    "\n",
    "#Load CSV files\n",
    "df_train = pd.read_csv('C:/Users/hp/Downloads/train.csv')\n",
    "df_test = pd.read_csv('C:/Users/hp/Downloads/test.csv')\n",
    "\n",
    "df_train.head()"
   ]
  },
  {
   "cell_type": "code",
   "execution_count": 15,
   "metadata": {},
   "outputs": [],
   "source": [
    "#split independent and depend variable for both X_train, y_train and X_test and y_test\n",
    "X_train = df_train.drop('label', axis=1).values\n",
    "Y_train = df_train['label'].values\n",
    "\n",
    "X_test = df_test.drop('label', axis=1).values\n",
    "Y_test = df_test['label'].values\n",
    "\n",
    "\n"
   ]
  },
  {
   "cell_type": "code",
   "execution_count": 16,
   "metadata": {},
   "outputs": [
    {
     "name": "stdout",
     "output_type": "stream",
     "text": [
      "(22046, 2500)\n"
     ]
    }
   ],
   "source": [
    "#check the shape of both X_train, y_train and X_test and y_test\n",
    "#reshape size\n",
    "\n",
    "print(X_train.shape)\n"
   ]
  },
  {
   "cell_type": "code",
   "execution_count": 17,
   "metadata": {},
   "outputs": [
    {
     "name": "stdout",
     "output_type": "stream",
     "text": [
      "Parasitized\n"
     ]
    },
    {
     "data": {
      "image/png": "[encoded data removed]",
      "text/plain": [
       "<Figure size 2000x800 with 1 Axes>"
      ]
     },
     "metadata": {},
     "output_type": "display_data"
    }
   ],
   "source": [
    "#visualize an image from X_train at any index to understand it. AS the ata given is in csv, reshape the image in 50*50\n",
    "\n",
    "#a = 200\n",
    "plt.imshow(X_train[200].reshape(50, 50), cmap='gray')\n",
    "print(Y_train[200])"
   ]
  },
  {
   "cell_type": "code",
   "execution_count": 37,
   "metadata": {},
   "outputs": [
    {
     "name": "stdout",
     "output_type": "stream",
     "text": [
      "X_train shape ===> (22046, 50, 50, 1)\n",
      "X_test shape ===> (5512, 50, 50, 1)\n"
     ]
    }
   ],
   "source": [
    "#shape all rows from X_train and X_test to 50*50; 1= greyscale astype(float32)\n",
    "\n",
    "# Assuming X_train and X_test are Numpy arrays with image data\n",
    "# Reshape images to 50x50 grayscale and cast to float32\n",
    "\n",
    "X_train = X_train.reshape(df_train.shape[0], 50,50,1).astype('float32')\n",
    "X_train = X_train / 255.0\n",
    "                                                             \n",
    "X_test = X_test.reshape(df_test.shape[0], 50,50,1).astype('float32')\n",
    "X_test = X_test / 255.0\n",
    "                                                          \n",
    "print(\"X_train shape ===>\", X_train.shape)\n",
    "print(\"X_test shape ===>\", X_test.shape)"
   ]
  },
  {
   "cell_type": "code",
   "execution_count": 19,
   "metadata": {},
   "outputs": [],
   "source": [
    "#Data preprocesssing\n",
    "#Convert label column in y_train and y_test using LabelBinarizer() and use to_categorical to convert a class vector (integers) to binary class matrix\n",
    "\n",
    "lb = LabelBinarizer()\n",
    "y_train_binary = lb.fit_transform(Y_train)\n",
    "y_test_binary = lb.transform(Y_test)\n",
    "\n",
    "# Convert binary class matrix to categorical using to_categorical\n",
    "num_classes = len(lb.classes_)\n",
    "y_train_categorical = to_categorical(y_train_binary, num_classes=num_classes)\n",
    "y_test_categorical = to_categorical(y_test_binary, num_classes=num_classes)\n"
   ]
  },
  {
   "cell_type": "code",
   "execution_count": 21,
   "metadata": {},
   "outputs": [
    {
     "name": "stdout",
     "output_type": "stream",
     "text": [
      "(22046, 50, 50, 1)\n",
      "(22046, 2)\n"
     ]
    }
   ],
   "source": [
    "#check shape of X_train and y_train\n",
    "print(X_train.shape)\n",
    "print(y_train_categorical.shape)"
   ]
  },
  {
   "cell_type": "code",
   "execution_count": 39,
   "metadata": {},
   "outputs": [
    {
     "name": "stdout",
     "output_type": "stream",
     "text": [
      "Model: \"sequential_7\"\n",
      "_________________________________________________________________\n",
      " Layer (type)                Output Shape              Param #   \n",
      "=================================================================\n",
      " conv2d_22 (Conv2D)          (None, 50, 50, 16)        160       \n",
      "                                                                 \n",
      " max_pooling2d_22 (MaxPoolin  (None, 25, 25, 16)       0         \n",
      " g2D)                                                            \n",
      "                                                                 \n",
      " conv2d_23 (Conv2D)          (None, 25, 25, 32)        4640      \n",
      "                                                                 \n",
      " max_pooling2d_23 (MaxPoolin  (None, 12, 12, 32)       0         \n",
      " g2D)                                                            \n",
      "                                                                 \n",
      " conv2d_24 (Conv2D)          (None, 12, 12, 64)        18496     \n",
      "                                                                 \n",
      " max_pooling2d_24 (MaxPoolin  (None, 6, 6, 64)         0         \n",
      " g2D)                                                            \n",
      "                                                                 \n",
      " dropout_5 (Dropout)         (None, 6, 6, 64)          0         \n",
      "                                                                 \n",
      " flatten_7 (Flatten)         (None, 2304)              0         \n",
      "                                                                 \n",
      " dense_14 (Dense)            (None, 200)               461000    \n",
      "                                                                 \n",
      " dropout_6 (Dropout)         (None, 200)               0         \n",
      "                                                                 \n",
      " dense_15 (Dense)            (None, 2)                 402       \n",
      "                                                                 \n",
      "=================================================================\n",
      "Total params: 484,698\n",
      "Trainable params: 484,698\n",
      "Non-trainable params: 0\n",
      "_________________________________________________________________\n"
     ]
    }
   ],
   "source": [
    "#Build CNN model\n",
    "\n",
    "from tensorflow.keras import layers\n",
    "from tensorflow.keras.models import Sequential, Model\n",
    "from tensorflow.keras.layers import Conv2D, MaxPooling2D, Flatten, Dense, Input, Dropout, BatchNormalization\n",
    "from tensorflow.keras.models import Sequential, Model\n",
    "from tensorflow.keras.layers import Conv2D, MaxPooling2D, Flatten, Dense, Input, Dropout\n",
    "\n",
    "img_size = 50\n",
    "#batch_size = 32\n",
    "\n",
    "model = Sequential()\n",
    "\n",
    "model.add(Conv2D(16, (3,3), input_shape= (img_size,img_size,1), activation = 'relu', padding = 'same')) #padding = same size output\n",
    "model.add(MaxPooling2D())\n",
    "\n",
    "model.add(Conv2D(32, (3,3), activation = 'relu', padding = 'same'))\n",
    "model.add(MaxPooling2D())\n",
    "\n",
    "model.add(Conv2D(64, (3,3), activation = 'relu', padding = 'same')) \n",
    "model.add(MaxPooling2D())\n",
    "\n",
    "model.add(Dropout(0.2))\n",
    "model.add(Flatten())\n",
    "\n",
    "model.add(Dense(200, activation='relu'))\n",
    "model.add(Dropout(0.5))\n",
    "\n",
    "model.add(Dense(2, activation = 'softmax'))\n",
    "\n",
    "model.summary()"
   ]
  },
  {
   "cell_type": "code",
   "execution_count": 40,
   "metadata": {},
   "outputs": [],
   "source": [
    "#Compile CNN model\n",
    "\n",
    "\n",
    "# Compile the model\n",
    "model.compile(optimizer='adam',\n",
    "              loss='categorical_crossentropy',\n",
    "              metrics=['accuracy'])\n"
   ]
  },
  {
   "cell_type": "code",
   "execution_count": 41,
   "metadata": {},
   "outputs": [
    {
     "name": "stdout",
     "output_type": "stream",
     "text": [
      "Epoch 1/20\n",
      "441/441 [==============================] - 30s 65ms/step - loss: 0.6933 - accuracy: 0.5006\n",
      "Epoch 2/20\n",
      "441/441 [==============================] - 29s 67ms/step - loss: 0.6932 - accuracy: 0.4982\n",
      "Epoch 3/20\n",
      "441/441 [==============================] - 30s 68ms/step - loss: 0.6933 - accuracy: 0.4963\n",
      "Epoch 4/20\n",
      "441/441 [==============================] - 30s 68ms/step - loss: 0.6932 - accuracy: 0.5003\n",
      "Epoch 5/20\n",
      "441/441 [==============================] - 31s 70ms/step - loss: 0.6932 - accuracy: 0.5006\n",
      "Epoch 6/20\n",
      "441/441 [==============================] - 31s 71ms/step - loss: 0.6932 - accuracy: 0.4898\n",
      "Epoch 7/20\n",
      "441/441 [==============================] - 33s 74ms/step - loss: 0.6932 - accuracy: 0.4942\n",
      "Epoch 8/20\n",
      "441/441 [==============================] - 31s 71ms/step - loss: 0.6932 - accuracy: 0.4917\n",
      "Epoch 9/20\n",
      "441/441 [==============================] - 36s 82ms/step - loss: 0.6932 - accuracy: 0.4992\n",
      "Epoch 10/20\n",
      "441/441 [==============================] - 33s 75ms/step - loss: 0.6932 - accuracy: 0.5000\n",
      "Epoch 11/20\n",
      "441/441 [==============================] - 32s 72ms/step - loss: 0.6932 - accuracy: 0.4939\n",
      "Epoch 12/20\n",
      "441/441 [==============================] - 32s 73ms/step - loss: 0.6932 - accuracy: 0.4995\n",
      "Epoch 13/20\n",
      "441/441 [==============================] - 31s 71ms/step - loss: 0.6932 - accuracy: 0.5028\n",
      "Epoch 14/20\n",
      "441/441 [==============================] - 32s 73ms/step - loss: 0.6931 - accuracy: 0.5028\n",
      "Epoch 15/20\n",
      "441/441 [==============================] - 33s 75ms/step - loss: 0.6932 - accuracy: 0.5004\n",
      "Epoch 16/20\n",
      "441/441 [==============================] - 36s 81ms/step - loss: 0.6932 - accuracy: 0.5006\n",
      "Epoch 17/20\n",
      "441/441 [==============================] - 42s 95ms/step - loss: 0.6932 - accuracy: 0.4937\n",
      "Epoch 18/20\n",
      "441/441 [==============================] - 34s 78ms/step - loss: 0.6932 - accuracy: 0.4979\n",
      "Epoch 19/20\n",
      "441/441 [==============================] - 33s 74ms/step - loss: 0.6932 - accuracy: 0.4953\n",
      "Epoch 20/20\n",
      "441/441 [==============================] - 32s 73ms/step - loss: 0.6932 - accuracy: 0.4962\n"
     ]
    },
    {
     "data": {
      "text/plain": [
       "<keras.callbacks.History at 0x1fd96f7a220>"
      ]
     },
     "execution_count": 41,
     "metadata": {},
     "output_type": "execute_result"
    }
   ],
   "source": [
    "#Fit CNN model\n",
    "\n",
    "# Fit the model to the training data\n",
    "model.fit(X_train, y_train_categorical,batch_size = 50, epochs=20, verbose= 1)"
   ]
  },
  {
   "cell_type": "code",
   "execution_count": 42,
   "metadata": {},
   "outputs": [
    {
     "name": "stdout",
     "output_type": "stream",
     "text": [
      "Parasitized\n",
      "1/1 [==============================] - 0s 176ms/step\n",
      "Predicted classes: [[0.5004882 0.4995118]]\n"
     ]
    },
    {
     "data": {
      "image/png": "[encoded data removed]",
      "text/plain": [
       "<Figure size 2000x800 with 1 Axes>"
      ]
     },
     "metadata": {},
     "output_type": "display_data"
    }
   ],
   "source": [
    "#Evaluate the built CNN model with an image by suing a index varible.\n",
    "\n",
    "plt.imshow(X_test[200].reshape(50, 50), cmap='gray')\n",
    "print(Y_test[200])\n",
    "\n",
    "print('Predicted classes:', model.predict(np.array([X_test[200]])))"
   ]
  },
  {
   "cell_type": "code",
   "execution_count": null,
   "metadata": {},
   "outputs": [],
   "source": []
  }
 ],
 "metadata": {
  "kernelspec": {
   "display_name": "Python 3 (ipykernel)",
   "language": "python",
   "name": "python3"
  },
  "language_info": {
   "codemirror_mode": {
    "name": "ipython",
    "version": 3
   },
   "file_extension": ".py",
   "mimetype": "text/x-python",
   "name": "python",
   "nbconvert_exporter": "python",
   "pygments_lexer": "ipython3",
   "version": "3.9.13"
  }
 },
 "nbformat": 4,
 "nbformat_minor": 4
}
